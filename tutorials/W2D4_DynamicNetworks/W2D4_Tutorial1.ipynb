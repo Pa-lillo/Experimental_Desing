{
  "nbformat": 4,
  "nbformat_minor": 0,
  "metadata": {
    "colab": {
      "name": "W2D4_Tutorial1",
      "provenance": [],
      "collapsed_sections": [],
      "toc_visible": true,
      "include_colab_link": true
    },
    "kernel": {
      "display_name": "Python 3",
      "language": "python",
      "name": "python3"
    },
    "kernelspec": {
      "display_name": "Python 3",
      "name": "python3"
    },
    "language_info": {
      "codemirror_mode": {
        "name": "ipython",
        "version": 3
      },
      "file_extension": ".py",
      "mimetype": "text/x-python",
      "name": "python",
      "nbconvert_exporter": "python",
      "pygments_lexer": "ipython3",
      "version": "3.7.10"
    },
    "widgets": {
      "application/vnd.jupyter.widget-state+json": {
        "98c02530fa314a4b96d30b3b11c46475": {
          "model_module": "@jupyter-widgets/controls",
          "model_name": "TabModel",
          "state": {
            "_view_name": "TabView",
            "_dom_classes": [],
            "_titles": {
              "0": "Youtube",
              "1": "Bilibili"
            },
            "_model_name": "TabModel",
            "_view_module": "@jupyter-widgets/controls",
            "selected_index": 0,
            "_model_module_version": "1.5.0",
            "_view_count": null,
            "_view_module_version": "1.5.0",
            "box_style": "",
            "layout": "IPY_MODEL_5e1c870743a14f4e83fcccde5d407c57",
            "_model_module": "@jupyter-widgets/controls",
            "children": [
              "IPY_MODEL_2fa5426c17ad48708c63088ae011431c",
              "IPY_MODEL_43b400941e9c472fba81252031d927b6"
            ]
          }
        },
        "5e1c870743a14f4e83fcccde5d407c57": {
          "model_module": "@jupyter-widgets/base",
          "model_name": "LayoutModel",
          "state": {
            "_view_name": "LayoutView",
            "grid_template_rows": null,
            "right": null,
            "justify_content": null,
            "_view_module": "@jupyter-widgets/base",
            "overflow": null,
            "_model_module_version": "1.2.0",
            "_view_count": null,
            "flex_flow": null,
            "width": null,
            "min_width": null,
            "border": null,
            "align_items": null,
            "bottom": null,
            "_model_module": "@jupyter-widgets/base",
            "top": null,
            "grid_column": null,
            "overflow_y": null,
            "overflow_x": null,
            "grid_auto_flow": null,
            "grid_area": null,
            "grid_template_columns": null,
            "flex": null,
            "_model_name": "LayoutModel",
            "justify_items": null,
            "grid_row": null,
            "max_height": null,
            "align_content": null,
            "visibility": null,
            "align_self": null,
            "height": null,
            "min_height": null,
            "padding": null,
            "grid_auto_rows": null,
            "grid_gap": null,
            "max_width": null,
            "order": null,
            "_view_module_version": "1.2.0",
            "grid_template_areas": null,
            "object_position": null,
            "object_fit": null,
            "grid_auto_columns": null,
            "margin": null,
            "display": null,
            "left": null
          }
        },
        "2fa5426c17ad48708c63088ae011431c": {
          "model_module": "@jupyter-widgets/output",
          "model_name": "OutputModel",
          "state": {
            "_view_name": "OutputView",
            "msg_id": "",
            "_dom_classes": [],
            "_model_name": "OutputModel",
            "outputs": [
              {
                "output_type": "stream",
                "metadata": {
                  "tags": []
                },
                "text": "Video available at https://youtube.com/watch?v=p848349hPyw\n",
                "stream": "stdout"
              },
              {
                "output_type": "display_data",
                "metadata": {
                  "tags": []
                },
                "text/html": "\n        <iframe\n            width=\"854\"\n            height=\"480\"\n            src=\"https://www.youtube.com/embed/p848349hPyw?fs=1&rel=0\"\n            frameborder=\"0\"\n            allowfullscreen\n        ></iframe>\n        ",
                "text/plain": "<IPython.lib.display.YouTubeVideo at 0x7f479a282510>",
                "image/jpeg": "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\n"
              }
            ],
            "_view_module": "@jupyter-widgets/output",
            "_model_module_version": "1.0.0",
            "_view_count": null,
            "_view_module_version": "1.0.0",
            "layout": "IPY_MODEL_94cdac749c4549b1a729490b37207b7c",
            "_model_module": "@jupyter-widgets/output"
          }
        },
        "43b400941e9c472fba81252031d927b6": {
          "model_module": "@jupyter-widgets/output",
          "model_name": "OutputModel",
          "state": {
            "_view_name": "OutputView",
            "msg_id": "",
            "_dom_classes": [],
            "_model_name": "OutputModel",
            "outputs": [
              {
                "output_type": "stream",
                "metadata": {
                  "tags": []
                },
                "text": "Video available at https://www.bilibili.com/video/BV1dh411o7qJ\n",
                "stream": "stdout"
              },
              {
                "output_type": "display_data",
                "metadata": {
                  "tags": []
                },
                "text/html": "\n        <iframe\n            width=\"854\"\n            height=\"480\"\n            src=\"https://player.bilibili.com/player.html?bvid=BV1dh411o7qJ&page=1?fs=1\"\n            frameborder=\"0\"\n            allowfullscreen\n        ></iframe>\n        ",
                "text/plain": "<__main__.BiliVideo at 0x7f47a9066cd0>"
              }
            ],
            "_view_module": "@jupyter-widgets/output",
            "_model_module_version": "1.0.0",
            "_view_count": null,
            "_view_module_version": "1.0.0",
            "layout": "IPY_MODEL_816df068d84b4d77a60bc15ee2a47a65",
            "_model_module": "@jupyter-widgets/output"
          }
        },
        "94cdac749c4549b1a729490b37207b7c": {
          "model_module": "@jupyter-widgets/base",
          "model_name": "LayoutModel",
          "state": {
            "_view_name": "LayoutView",
            "grid_template_rows": null,
            "right": null,
            "justify_content": null,
            "_view_module": "@jupyter-widgets/base",
            "overflow": null,
            "_model_module_version": "1.2.0",
            "_view_count": null,
            "flex_flow": null,
            "width": null,
            "min_width": null,
            "border": null,
            "align_items": null,
            "bottom": null,
            "_model_module": "@jupyter-widgets/base",
            "top": null,
            "grid_column": null,
            "overflow_y": null,
            "overflow_x": null,
            "grid_auto_flow": null,
            "grid_area": null,
            "grid_template_columns": null,
            "flex": null,
            "_model_name": "LayoutModel",
            "justify_items": null,
            "grid_row": null,
            "max_height": null,
            "align_content": null,
            "visibility": null,
            "align_self": null,
            "height": null,
            "min_height": null,
            "padding": null,
            "grid_auto_rows": null,
            "grid_gap": null,
            "max_width": null,
            "order": null,
            "_view_module_version": "1.2.0",
            "grid_template_areas": null,
            "object_position": null,
            "object_fit": null,
            "grid_auto_columns": null,
            "margin": null,
            "display": null,
            "left": null
          }
        },
        "816df068d84b4d77a60bc15ee2a47a65": {
          "model_module": "@jupyter-widgets/base",
          "model_name": "LayoutModel",
          "state": {
            "_view_name": "LayoutView",
            "grid_template_rows": null,
            "right": null,
            "justify_content": null,
            "_view_module": "@jupyter-widgets/base",
            "overflow": null,
            "_model_module_version": "1.2.0",
            "_view_count": null,
            "flex_flow": null,
            "width": null,
            "min_width": null,
            "border": null,
            "align_items": null,
            "bottom": null,
            "_model_module": "@jupyter-widgets/base",
            "top": null,
            "grid_column": null,
            "overflow_y": null,
            "overflow_x": null,
            "grid_auto_flow": null,
            "grid_area": null,
            "grid_template_columns": null,
            "flex": null,
            "_model_name": "LayoutModel",
            "justify_items": null,
            "grid_row": null,
            "max_height": null,
            "align_content": null,
            "visibility": null,
            "align_self": null,
            "height": null,
            "min_height": null,
            "padding": null,
            "grid_auto_rows": null,
            "grid_gap": null,
            "max_width": null,
            "order": null,
            "_view_module_version": "1.2.0",
            "grid_template_areas": null,
            "object_position": null,
            "object_fit": null,
            "grid_auto_columns": null,
            "margin": null,
            "display": null,
            "left": null
          }
        },
        "d6eacb3d54ae4d76af43df18bc9eb16e": {
          "model_module": "@jupyter-widgets/controls",
          "model_name": "VBoxModel",
          "state": {
            "_view_name": "VBoxView",
            "_dom_classes": [
              "widget-interact"
            ],
            "_model_name": "VBoxModel",
            "_view_module": "@jupyter-widgets/controls",
            "_model_module_version": "1.5.0",
            "_view_count": null,
            "_view_module_version": "1.5.0",
            "box_style": "",
            "layout": "IPY_MODEL_0c4e8d975df547b3bdb4acdca334d201",
            "_model_module": "@jupyter-widgets/controls",
            "children": [
              "IPY_MODEL_c02cb672aae742169c82015d2f9d0aa5",
              "IPY_MODEL_e8efbb3c70b047ed95269cc6c961a85d",
              "IPY_MODEL_b2177c9cd8084eb790d385171b7b82a1"
            ]
          }
        },
        "0c4e8d975df547b3bdb4acdca334d201": {
          "model_module": "@jupyter-widgets/base",
          "model_name": "LayoutModel",
          "state": {
            "_view_name": "LayoutView",
            "grid_template_rows": null,
            "right": null,
            "justify_content": null,
            "_view_module": "@jupyter-widgets/base",
            "overflow": null,
            "_model_module_version": "1.2.0",
            "_view_count": null,
            "flex_flow": null,
            "width": null,
            "min_width": null,
            "border": null,
            "align_items": null,
            "bottom": null,
            "_model_module": "@jupyter-widgets/base",
            "top": null,
            "grid_column": null,
            "overflow_y": null,
            "overflow_x": null,
            "grid_auto_flow": null,
            "grid_area": null,
            "grid_template_columns": null,
            "flex": null,
            "_model_name": "LayoutModel",
            "justify_items": null,
            "grid_row": null,
            "max_height": null,
            "align_content": null,
            "visibility": null,
            "align_self": null,
            "height": null,
            "min_height": null,
            "padding": null,
            "grid_auto_rows": null,
            "grid_gap": null,
            "max_width": null,
            "order": null,
            "_view_module_version": "1.2.0",
            "grid_template_areas": null,
            "object_position": null,
            "object_fit": null,
            "grid_auto_columns": null,
            "margin": null,
            "display": null,
            "left": null
          }
        },
        "c02cb672aae742169c82015d2f9d0aa5": {
          "model_module": "@jupyter-widgets/controls",
          "model_name": "FloatSliderModel",
          "state": {
            "_view_name": "FloatSliderView",
            "style": "IPY_MODEL_0a12936c10c3432494443241e7a88770",
            "_dom_classes": [],
            "description": "a",
            "step": 0.3,
            "_model_name": "FloatSliderModel",
            "orientation": "horizontal",
            "max": 3,
            "_view_module": "@jupyter-widgets/controls",
            "_model_module_version": "1.5.0",
            "value": 3,
            "_view_count": null,
            "disabled": false,
            "_view_module_version": "1.5.0",
            "min": 0.3,
            "continuous_update": true,
            "readout_format": ".2f",
            "description_tooltip": null,
            "readout": true,
            "_model_module": "@jupyter-widgets/controls",
            "layout": "IPY_MODEL_0575e1e35480456bbfa3fbde5c5c0773"
          }
        },
        "e8efbb3c70b047ed95269cc6c961a85d": {
          "model_module": "@jupyter-widgets/controls",
          "model_name": "FloatSliderModel",
          "state": {
            "_view_name": "FloatSliderView",
            "style": "IPY_MODEL_d77045a3e8ac4f79aae6737ca74df499",
            "_dom_classes": [],
            "description": "theta",
            "step": 0.2,
            "_model_name": "FloatSliderModel",
            "orientation": "horizontal",
            "max": 4,
            "_view_module": "@jupyter-widgets/controls",
            "_model_module_version": "1.5.0",
            "value": 4,
            "_view_count": null,
            "disabled": false,
            "_view_module_version": "1.5.0",
            "min": 2,
            "continuous_update": true,
            "readout_format": ".2f",
            "description_tooltip": null,
            "readout": true,
            "_model_module": "@jupyter-widgets/controls",
            "layout": "IPY_MODEL_bbf1772fb8a44d9ba98fc7370f211103"
          }
        },
        "b2177c9cd8084eb790d385171b7b82a1": {
          "model_module": "@jupyter-widgets/output",
          "model_name": "OutputModel",
          "state": {
            "_view_name": "OutputView",
            "msg_id": "",
            "_dom_classes": [],
            "_model_name": "OutputModel",
            "outputs": [
              {
                "output_type": "display_data",
                "metadata": {
                  "tags": [],
                  "needs_background": "light"
                },
                "image/png": "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\n",
                "text/plain": "<Figure size 432x288 with 1 Axes>"
              }
            ],
            "_view_module": "@jupyter-widgets/output",
            "_model_module_version": "1.0.0",
            "_view_count": null,
            "_view_module_version": "1.0.0",
            "layout": "IPY_MODEL_985b04bb2d5f428c98d8c98246738788",
            "_model_module": "@jupyter-widgets/output"
          }
        },
        "0a12936c10c3432494443241e7a88770": {
          "model_module": "@jupyter-widgets/controls",
          "model_name": "SliderStyleModel",
          "state": {
            "_view_name": "StyleView",
            "handle_color": null,
            "_model_name": "SliderStyleModel",
            "description_width": "",
            "_view_module": "@jupyter-widgets/base",
            "_model_module_version": "1.5.0",
            "_view_count": null,
            "_view_module_version": "1.2.0",
            "_model_module": "@jupyter-widgets/controls"
          }
        },
        "0575e1e35480456bbfa3fbde5c5c0773": {
          "model_module": "@jupyter-widgets/base",
          "model_name": "LayoutModel",
          "state": {
            "_view_name": "LayoutView",
            "grid_template_rows": null,
            "right": null,
            "justify_content": null,
            "_view_module": "@jupyter-widgets/base",
            "overflow": null,
            "_model_module_version": "1.2.0",
            "_view_count": null,
            "flex_flow": null,
            "width": null,
            "min_width": null,
            "border": null,
            "align_items": null,
            "bottom": null,
            "_model_module": "@jupyter-widgets/base",
            "top": null,
            "grid_column": null,
            "overflow_y": null,
            "overflow_x": null,
            "grid_auto_flow": null,
            "grid_area": null,
            "grid_template_columns": null,
            "flex": null,
            "_model_name": "LayoutModel",
            "justify_items": null,
            "grid_row": null,
            "max_height": null,
            "align_content": null,
            "visibility": null,
            "align_self": null,
            "height": null,
            "min_height": null,
            "padding": null,
            "grid_auto_rows": null,
            "grid_gap": null,
            "max_width": null,
            "order": null,
            "_view_module_version": "1.2.0",
            "grid_template_areas": null,
            "object_position": null,
            "object_fit": null,
            "grid_auto_columns": null,
            "margin": null,
            "display": null,
            "left": null
          }
        },
        "d77045a3e8ac4f79aae6737ca74df499": {
          "model_module": "@jupyter-widgets/controls",
          "model_name": "SliderStyleModel",
          "state": {
            "_view_name": "StyleView",
            "handle_color": null,
            "_model_name": "SliderStyleModel",
            "description_width": "",
            "_view_module": "@jupyter-widgets/base",
            "_model_module_version": "1.5.0",
            "_view_count": null,
            "_view_module_version": "1.2.0",
            "_model_module": "@jupyter-widgets/controls"
          }
        },
        "bbf1772fb8a44d9ba98fc7370f211103": {
          "model_module": "@jupyter-widgets/base",
          "model_name": "LayoutModel",
          "state": {
            "_view_name": "LayoutView",
            "grid_template_rows": null,
            "right": null,
            "justify_content": null,
            "_view_module": "@jupyter-widgets/base",
            "overflow": null,
            "_model_module_version": "1.2.0",
            "_view_count": null,
            "flex_flow": null,
            "width": null,
            "min_width": null,
            "border": null,
            "align_items": null,
            "bottom": null,
            "_model_module": "@jupyter-widgets/base",
            "top": null,
            "grid_column": null,
            "overflow_y": null,
            "overflow_x": null,
            "grid_auto_flow": null,
            "grid_area": null,
            "grid_template_columns": null,
            "flex": null,
            "_model_name": "LayoutModel",
            "justify_items": null,
            "grid_row": null,
            "max_height": null,
            "align_content": null,
            "visibility": null,
            "align_self": null,
            "height": null,
            "min_height": null,
            "padding": null,
            "grid_auto_rows": null,
            "grid_gap": null,
            "max_width": null,
            "order": null,
            "_view_module_version": "1.2.0",
            "grid_template_areas": null,
            "object_position": null,
            "object_fit": null,
            "grid_auto_columns": null,
            "margin": null,
            "display": null,
            "left": null
          }
        },
        "985b04bb2d5f428c98d8c98246738788": {
          "model_module": "@jupyter-widgets/base",
          "model_name": "LayoutModel",
          "state": {
            "_view_name": "LayoutView",
            "grid_template_rows": null,
            "right": null,
            "justify_content": null,
            "_view_module": "@jupyter-widgets/base",
            "overflow": null,
            "_model_module_version": "1.2.0",
            "_view_count": null,
            "flex_flow": null,
            "width": null,
            "min_width": null,
            "border": null,
            "align_items": null,
            "bottom": null,
            "_model_module": "@jupyter-widgets/base",
            "top": null,
            "grid_column": null,
            "overflow_y": null,
            "overflow_x": null,
            "grid_auto_flow": null,
            "grid_area": null,
            "grid_template_columns": null,
            "flex": null,
            "_model_name": "LayoutModel",
            "justify_items": null,
            "grid_row": null,
            "max_height": null,
            "align_content": null,
            "visibility": null,
            "align_self": null,
            "height": null,
            "min_height": null,
            "padding": null,
            "grid_auto_rows": null,
            "grid_gap": null,
            "max_width": null,
            "order": null,
            "_view_module_version": "1.2.0",
            "grid_template_areas": null,
            "object_position": null,
            "object_fit": null,
            "grid_auto_columns": null,
            "margin": null,
            "display": null,
            "left": null
          }
        },
        "27597105df33485fb37d37f034c676ab": {
          "model_module": "@jupyter-widgets/controls",
          "model_name": "VBoxModel",
          "state": {
            "_view_name": "VBoxView",
            "_dom_classes": [
              "widget-interact"
            ],
            "_model_name": "VBoxModel",
            "_view_module": "@jupyter-widgets/controls",
            "_model_module_version": "1.5.0",
            "_view_count": null,
            "_view_module_version": "1.5.0",
            "box_style": "",
            "layout": "IPY_MODEL_f14800e31a494f9b97e213db0dd04773",
            "_model_module": "@jupyter-widgets/controls",
            "children": [
              "IPY_MODEL_2eb5c8fac64145edb5e698ba2fc16bde",
              "IPY_MODEL_3fe1dd72e1b342058e5e0ce70da0ec48",
              "IPY_MODEL_c00564f7a7af4daabae962576c876829"
            ]
          }
        },
        "f14800e31a494f9b97e213db0dd04773": {
          "model_module": "@jupyter-widgets/base",
          "model_name": "LayoutModel",
          "state": {
            "_view_name": "LayoutView",
            "grid_template_rows": null,
            "right": null,
            "justify_content": null,
            "_view_module": "@jupyter-widgets/base",
            "overflow": null,
            "_model_module_version": "1.2.0",
            "_view_count": null,
            "flex_flow": null,
            "width": null,
            "min_width": null,
            "border": null,
            "align_items": null,
            "bottom": null,
            "_model_module": "@jupyter-widgets/base",
            "top": null,
            "grid_column": null,
            "overflow_y": null,
            "overflow_x": null,
            "grid_auto_flow": null,
            "grid_area": null,
            "grid_template_columns": null,
            "flex": null,
            "_model_name": "LayoutModel",
            "justify_items": null,
            "grid_row": null,
            "max_height": null,
            "align_content": null,
            "visibility": null,
            "align_self": null,
            "height": null,
            "min_height": null,
            "padding": null,
            "grid_auto_rows": null,
            "grid_gap": null,
            "max_width": null,
            "order": null,
            "_view_module_version": "1.2.0",
            "grid_template_areas": null,
            "object_position": null,
            "object_fit": null,
            "grid_auto_columns": null,
            "margin": null,
            "display": null,
            "left": null
          }
        },
        "2eb5c8fac64145edb5e698ba2fc16bde": {
          "model_module": "@jupyter-widgets/controls",
          "model_name": "FloatSliderModel",
          "state": {
            "_view_name": "FloatSliderView",
            "style": "IPY_MODEL_89268de1c3844f6b928719be10a89993",
            "_dom_classes": [],
            "description": "I_ext",
            "step": 1,
            "_model_name": "FloatSliderModel",
            "orientation": "horizontal",
            "max": 10,
            "_view_module": "@jupyter-widgets/controls",
            "_model_module_version": "1.5.0",
            "value": 0,
            "_view_count": null,
            "disabled": false,
            "_view_module_version": "1.5.0",
            "min": 0,
            "continuous_update": true,
            "readout_format": ".2f",
            "description_tooltip": null,
            "readout": true,
            "_model_module": "@jupyter-widgets/controls",
            "layout": "IPY_MODEL_fd4dfd4dce254169b6d9fea604dd4aa2"
          }
        },
        "3fe1dd72e1b342058e5e0ce70da0ec48": {
          "model_module": "@jupyter-widgets/controls",
          "model_name": "FloatSliderModel",
          "state": {
            "_view_name": "FloatSliderView",
            "style": "IPY_MODEL_40c53ec542a0499887ddab5fd695e22c",
            "_dom_classes": [],
            "description": "tau",
            "step": 0.2,
            "_model_name": "FloatSliderModel",
            "orientation": "horizontal",
            "max": 5,
            "_view_module": "@jupyter-widgets/controls",
            "_model_module_version": "1.5.0",
            "value": 3,
            "_view_count": null,
            "disabled": false,
            "_view_module_version": "1.5.0",
            "min": 1,
            "continuous_update": true,
            "readout_format": ".2f",
            "description_tooltip": null,
            "readout": true,
            "_model_module": "@jupyter-widgets/controls",
            "layout": "IPY_MODEL_74f6bf357ed14668870753f24f84147b"
          }
        },
        "c00564f7a7af4daabae962576c876829": {
          "model_module": "@jupyter-widgets/output",
          "model_name": "OutputModel",
          "state": {
            "_view_name": "OutputView",
            "msg_id": "",
            "_dom_classes": [],
            "_model_name": "OutputModel",
            "outputs": [
              {
                "output_type": "display_data",
                "metadata": {
                  "tags": [],
                  "needs_background": "light"
                },
                "image/png": "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\n",
                "text/plain": "<Figure size 432x288 with 1 Axes>"
              }
            ],
            "_view_module": "@jupyter-widgets/output",
            "_model_module_version": "1.0.0",
            "_view_count": null,
            "_view_module_version": "1.0.0",
            "layout": "IPY_MODEL_8f36201fdaf747fcbaa98e1e43ad367b",
            "_model_module": "@jupyter-widgets/output"
          }
        },
        "89268de1c3844f6b928719be10a89993": {
          "model_module": "@jupyter-widgets/controls",
          "model_name": "SliderStyleModel",
          "state": {
            "_view_name": "StyleView",
            "handle_color": null,
            "_model_name": "SliderStyleModel",
            "description_width": "",
            "_view_module": "@jupyter-widgets/base",
            "_model_module_version": "1.5.0",
            "_view_count": null,
            "_view_module_version": "1.2.0",
            "_model_module": "@jupyter-widgets/controls"
          }
        },
        "fd4dfd4dce254169b6d9fea604dd4aa2": {
          "model_module": "@jupyter-widgets/base",
          "model_name": "LayoutModel",
          "state": {
            "_view_name": "LayoutView",
            "grid_template_rows": null,
            "right": null,
            "justify_content": null,
            "_view_module": "@jupyter-widgets/base",
            "overflow": null,
            "_model_module_version": "1.2.0",
            "_view_count": null,
            "flex_flow": null,
            "width": null,
            "min_width": null,
            "border": null,
            "align_items": null,
            "bottom": null,
            "_model_module": "@jupyter-widgets/base",
            "top": null,
            "grid_column": null,
            "overflow_y": null,
            "overflow_x": null,
            "grid_auto_flow": null,
            "grid_area": null,
            "grid_template_columns": null,
            "flex": null,
            "_model_name": "LayoutModel",
            "justify_items": null,
            "grid_row": null,
            "max_height": null,
            "align_content": null,
            "visibility": null,
            "align_self": null,
            "height": null,
            "min_height": null,
            "padding": null,
            "grid_auto_rows": null,
            "grid_gap": null,
            "max_width": null,
            "order": null,
            "_view_module_version": "1.2.0",
            "grid_template_areas": null,
            "object_position": null,
            "object_fit": null,
            "grid_auto_columns": null,
            "margin": null,
            "display": null,
            "left": null
          }
        },
        "40c53ec542a0499887ddab5fd695e22c": {
          "model_module": "@jupyter-widgets/controls",
          "model_name": "SliderStyleModel",
          "state": {
            "_view_name": "StyleView",
            "handle_color": null,
            "_model_name": "SliderStyleModel",
            "description_width": "",
            "_view_module": "@jupyter-widgets/base",
            "_model_module_version": "1.5.0",
            "_view_count": null,
            "_view_module_version": "1.2.0",
            "_model_module": "@jupyter-widgets/controls"
          }
        },
        "74f6bf357ed14668870753f24f84147b": {
          "model_module": "@jupyter-widgets/base",
          "model_name": "LayoutModel",
          "state": {
            "_view_name": "LayoutView",
            "grid_template_rows": null,
            "right": null,
            "justify_content": null,
            "_view_module": "@jupyter-widgets/base",
            "overflow": null,
            "_model_module_version": "1.2.0",
            "_view_count": null,
            "flex_flow": null,
            "width": null,
            "min_width": null,
            "border": null,
            "align_items": null,
            "bottom": null,
            "_model_module": "@jupyter-widgets/base",
            "top": null,
            "grid_column": null,
            "overflow_y": null,
            "overflow_x": null,
            "grid_auto_flow": null,
            "grid_area": null,
            "grid_template_columns": null,
            "flex": null,
            "_model_name": "LayoutModel",
            "justify_items": null,
            "grid_row": null,
            "max_height": null,
            "align_content": null,
            "visibility": null,
            "align_self": null,
            "height": null,
            "min_height": null,
            "padding": null,
            "grid_auto_rows": null,
            "grid_gap": null,
            "max_width": null,
            "order": null,
            "_view_module_version": "1.2.0",
            "grid_template_areas": null,
            "object_position": null,
            "object_fit": null,
            "grid_auto_columns": null,
            "margin": null,
            "display": null,
            "left": null
          }
        },
        "8f36201fdaf747fcbaa98e1e43ad367b": {
          "model_module": "@jupyter-widgets/base",
          "model_name": "LayoutModel",
          "state": {
            "_view_name": "LayoutView",
            "grid_template_rows": null,
            "right": null,
            "justify_content": null,
            "_view_module": "@jupyter-widgets/base",
            "overflow": null,
            "_model_module_version": "1.2.0",
            "_view_count": null,
            "flex_flow": null,
            "width": null,
            "min_width": null,
            "border": null,
            "align_items": null,
            "bottom": null,
            "_model_module": "@jupyter-widgets/base",
            "top": null,
            "grid_column": null,
            "overflow_y": null,
            "overflow_x": null,
            "grid_auto_flow": null,
            "grid_area": null,
            "grid_template_columns": null,
            "flex": null,
            "_model_name": "LayoutModel",
            "justify_items": null,
            "grid_row": null,
            "max_height": null,
            "align_content": null,
            "visibility": null,
            "align_self": null,
            "height": null,
            "min_height": null,
            "padding": null,
            "grid_auto_rows": null,
            "grid_gap": null,
            "max_width": null,
            "order": null,
            "_view_module_version": "1.2.0",
            "grid_template_areas": null,
            "object_position": null,
            "object_fit": null,
            "grid_auto_columns": null,
            "margin": null,
            "display": null,
            "left": null
          }
        },
        "739fe6fccf59411880136d36bb3f5a18": {
          "model_module": "@jupyter-widgets/controls",
          "model_name": "TabModel",
          "state": {
            "_view_name": "TabView",
            "_dom_classes": [],
            "_titles": {
              "0": "Youtube",
              "1": "Bilibili"
            },
            "_model_name": "TabModel",
            "_view_module": "@jupyter-widgets/controls",
            "selected_index": 0,
            "_model_module_version": "1.5.0",
            "_view_count": null,
            "_view_module_version": "1.5.0",
            "box_style": "",
            "layout": "IPY_MODEL_de332d61073f4331b49e49c20b3c7114",
            "_model_module": "@jupyter-widgets/controls",
            "children": [
              "IPY_MODEL_e3e91d3861ce4b269338bfbf22d7aaf7",
              "IPY_MODEL_58e68c5957474b859e1a1f64db07b91f"
            ]
          }
        },
        "de332d61073f4331b49e49c20b3c7114": {
          "model_module": "@jupyter-widgets/base",
          "model_name": "LayoutModel",
          "state": {
            "_view_name": "LayoutView",
            "grid_template_rows": null,
            "right": null,
            "justify_content": null,
            "_view_module": "@jupyter-widgets/base",
            "overflow": null,
            "_model_module_version": "1.2.0",
            "_view_count": null,
            "flex_flow": null,
            "width": null,
            "min_width": null,
            "border": null,
            "align_items": null,
            "bottom": null,
            "_model_module": "@jupyter-widgets/base",
            "top": null,
            "grid_column": null,
            "overflow_y": null,
            "overflow_x": null,
            "grid_auto_flow": null,
            "grid_area": null,
            "grid_template_columns": null,
            "flex": null,
            "_model_name": "LayoutModel",
            "justify_items": null,
            "grid_row": null,
            "max_height": null,
            "align_content": null,
            "visibility": null,
            "align_self": null,
            "height": null,
            "min_height": null,
            "padding": null,
            "grid_auto_rows": null,
            "grid_gap": null,
            "max_width": null,
            "order": null,
            "_view_module_version": "1.2.0",
            "grid_template_areas": null,
            "object_position": null,
            "object_fit": null,
            "grid_auto_columns": null,
            "margin": null,
            "display": null,
            "left": null
          }
        },
        "e3e91d3861ce4b269338bfbf22d7aaf7": {
          "model_module": "@jupyter-widgets/output",
          "model_name": "OutputModel",
          "state": {
            "_view_name": "OutputView",
            "msg_id": "",
            "_dom_classes": [],
            "_model_name": "OutputModel",
            "outputs": [
              {
                "output_type": "stream",
                "metadata": {
                  "tags": []
                },
                "text": "Video available at https://youtube.com/watch?v=Ox3ELd1UFyo\n",
                "stream": "stdout"
              },
              {
                "output_type": "display_data",
                "metadata": {
                  "tags": []
                },
                "text/html": "\n        <iframe\n            width=\"854\"\n            height=\"480\"\n            src=\"https://www.youtube.com/embed/Ox3ELd1UFyo?fs=1&rel=0\"\n            frameborder=\"0\"\n            allowfullscreen\n        ></iframe>\n        ",
                "text/plain": "<IPython.lib.display.YouTubeVideo at 0x7f479a282510>",
                "image/jpeg": "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\n"
              }
            ],
            "_view_module": "@jupyter-widgets/output",
            "_model_module_version": "1.0.0",
            "_view_count": null,
            "_view_module_version": "1.0.0",
            "layout": "IPY_MODEL_70ee7f079ecb4a90ae4e5dd24bb50c0e",
            "_model_module": "@jupyter-widgets/output"
          }
        },
        "58e68c5957474b859e1a1f64db07b91f": {
          "model_module": "@jupyter-widgets/output",
          "model_name": "OutputModel",
          "state": {
            "_view_name": "OutputView",
            "msg_id": "",
            "_dom_classes": [],
            "_model_name": "OutputModel",
            "outputs": [
              {
                "output_type": "stream",
                "metadata": {
                  "tags": []
                },
                "text": "Video available at https://www.bilibili.com/video/BV1v54y1v7Gr\n",
                "stream": "stdout"
              },
              {
                "output_type": "display_data",
                "metadata": {
                  "tags": []
                },
                "text/html": "\n        <iframe\n            width=\"854\"\n            height=\"480\"\n            src=\"https://player.bilibili.com/player.html?bvid=BV1v54y1v7Gr&page=1?fs=1\"\n            frameborder=\"0\"\n            allowfullscreen\n        ></iframe>\n        ",
                "text/plain": "<__main__.BiliVideo at 0x7f47992a1e50>"
              }
            ],
            "_view_module": "@jupyter-widgets/output",
            "_model_module_version": "1.0.0",
            "_view_count": null,
            "_view_module_version": "1.0.0",
            "layout": "IPY_MODEL_7de54405d8fb4772be8a834aa6e58935",
            "_model_module": "@jupyter-widgets/output"
          }
        },
        "70ee7f079ecb4a90ae4e5dd24bb50c0e": {
          "model_module": "@jupyter-widgets/base",
          "model_name": "LayoutModel",
          "state": {
            "_view_name": "LayoutView",
            "grid_template_rows": null,
            "right": null,
            "justify_content": null,
            "_view_module": "@jupyter-widgets/base",
            "overflow": null,
            "_model_module_version": "1.2.0",
            "_view_count": null,
            "flex_flow": null,
            "width": null,
            "min_width": null,
            "border": null,
            "align_items": null,
            "bottom": null,
            "_model_module": "@jupyter-widgets/base",
            "top": null,
            "grid_column": null,
            "overflow_y": null,
            "overflow_x": null,
            "grid_auto_flow": null,
            "grid_area": null,
            "grid_template_columns": null,
            "flex": null,
            "_model_name": "LayoutModel",
            "justify_items": null,
            "grid_row": null,
            "max_height": null,
            "align_content": null,
            "visibility": null,
            "align_self": null,
            "height": null,
            "min_height": null,
            "padding": null,
            "grid_auto_rows": null,
            "grid_gap": null,
            "max_width": null,
            "order": null,
            "_view_module_version": "1.2.0",
            "grid_template_areas": null,
            "object_position": null,
            "object_fit": null,
            "grid_auto_columns": null,
            "margin": null,
            "display": null,
            "left": null
          }
        },
        "7de54405d8fb4772be8a834aa6e58935": {
          "model_module": "@jupyter-widgets/base",
          "model_name": "LayoutModel",
          "state": {
            "_view_name": "LayoutView",
            "grid_template_rows": null,
            "right": null,
            "justify_content": null,
            "_view_module": "@jupyter-widgets/base",
            "overflow": null,
            "_model_module_version": "1.2.0",
            "_view_count": null,
            "flex_flow": null,
            "width": null,
            "min_width": null,
            "border": null,
            "align_items": null,
            "bottom": null,
            "_model_module": "@jupyter-widgets/base",
            "top": null,
            "grid_column": null,
            "overflow_y": null,
            "overflow_x": null,
            "grid_auto_flow": null,
            "grid_area": null,
            "grid_template_columns": null,
            "flex": null,
            "_model_name": "LayoutModel",
            "justify_items": null,
            "grid_row": null,
            "max_height": null,
            "align_content": null,
            "visibility": null,
            "align_self": null,
            "height": null,
            "min_height": null,
            "padding": null,
            "grid_auto_rows": null,
            "grid_gap": null,
            "max_width": null,
            "order": null,
            "_view_module_version": "1.2.0",
            "grid_template_areas": null,
            "object_position": null,
            "object_fit": null,
            "grid_auto_columns": null,
            "margin": null,
            "display": null,
            "left": null
          }
        },
        "39560eb7f56d4184924692bfe224f300": {
          "model_module": "@jupyter-widgets/controls",
          "model_name": "VBoxModel",
          "state": {
            "_view_name": "VBoxView",
            "_dom_classes": [
              "widget-interact"
            ],
            "_model_name": "VBoxModel",
            "_view_module": "@jupyter-widgets/controls",
            "_model_module_version": "1.5.0",
            "_view_count": null,
            "_view_module_version": "1.5.0",
            "box_style": "",
            "layout": "IPY_MODEL_63f42d0f30214b549c95cea2e5b4e29e",
            "_model_module": "@jupyter-widgets/controls",
            "children": [
              "IPY_MODEL_a2e7a520472140358c9dabc9f651e492",
              "IPY_MODEL_edc626e171694329af8cc2ff68f472f9",
              "IPY_MODEL_e6be599b3b1441c8827d6fc76984ef3f"
            ]
          }
        },
        "63f42d0f30214b549c95cea2e5b4e29e": {
          "model_module": "@jupyter-widgets/base",
          "model_name": "LayoutModel",
          "state": {
            "_view_name": "LayoutView",
            "grid_template_rows": null,
            "right": null,
            "justify_content": null,
            "_view_module": "@jupyter-widgets/base",
            "overflow": null,
            "_model_module_version": "1.2.0",
            "_view_count": null,
            "flex_flow": null,
            "width": null,
            "min_width": null,
            "border": null,
            "align_items": null,
            "bottom": null,
            "_model_module": "@jupyter-widgets/base",
            "top": null,
            "grid_column": null,
            "overflow_y": null,
            "overflow_x": null,
            "grid_auto_flow": null,
            "grid_area": null,
            "grid_template_columns": null,
            "flex": null,
            "_model_name": "LayoutModel",
            "justify_items": null,
            "grid_row": null,
            "max_height": null,
            "align_content": null,
            "visibility": null,
            "align_self": null,
            "height": null,
            "min_height": null,
            "padding": null,
            "grid_auto_rows": null,
            "grid_gap": null,
            "max_width": null,
            "order": null,
            "_view_module_version": "1.2.0",
            "grid_template_areas": null,
            "object_position": null,
            "object_fit": null,
            "grid_auto_columns": null,
            "margin": null,
            "display": null,
            "left": null
          }
        },
        "a2e7a520472140358c9dabc9f651e492": {
          "model_module": "@jupyter-widgets/controls",
          "model_name": "FloatSliderModel",
          "state": {
            "_view_name": "FloatSliderView",
            "style": "IPY_MODEL_931964b6ce8a4bb483d129e71772f43f",
            "_dom_classes": [],
            "description": "w",
            "step": 0.2,
            "_model_name": "FloatSliderModel",
            "orientation": "horizontal",
            "max": 7,
            "_view_module": "@jupyter-widgets/controls",
            "_model_module_version": "1.5.0",
            "value": -0.4,
            "_view_count": null,
            "disabled": false,
            "_view_module_version": "1.5.0",
            "min": -1,
            "continuous_update": true,
            "readout_format": ".2f",
            "description_tooltip": null,
            "readout": true,
            "_model_module": "@jupyter-widgets/controls",
            "layout": "IPY_MODEL_7665cc0359d142bb8712779175b5ebde"
          }
        },
        "edc626e171694329af8cc2ff68f472f9": {
          "model_module": "@jupyter-widgets/controls",
          "model_name": "FloatSliderModel",
          "state": {
            "_view_name": "FloatSliderView",
            "style": "IPY_MODEL_c70da5512180417f8eb892e6e634f41c",
            "_dom_classes": [],
            "description": "I_ext",
            "step": 0.1,
            "_model_name": "FloatSliderModel",
            "orientation": "horizontal",
            "max": 3,
            "_view_module": "@jupyter-widgets/controls",
            "_model_module_version": "1.5.0",
            "value": 0,
            "_view_count": null,
            "disabled": false,
            "_view_module_version": "1.5.0",
            "min": 0,
            "continuous_update": true,
            "readout_format": ".2f",
            "description_tooltip": null,
            "readout": true,
            "_model_module": "@jupyter-widgets/controls",
            "layout": "IPY_MODEL_7bc105f610ef4cde885b01c170a51fd4"
          }
        },
        "e6be599b3b1441c8827d6fc76984ef3f": {
          "model_module": "@jupyter-widgets/output",
          "model_name": "OutputModel",
          "state": {
            "_view_name": "OutputView",
            "msg_id": "",
            "_dom_classes": [],
            "_model_name": "OutputModel",
            "outputs": [
              {
                "output_type": "display_data",
                "metadata": {
                  "tags": [],
                  "needs_background": "light"
                },
                "image/png": "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\n",
                "text/plain": "<Figure size 432x288 with 1 Axes>"
              }
            ],
            "_view_module": "@jupyter-widgets/output",
            "_model_module_version": "1.0.0",
            "_view_count": null,
            "_view_module_version": "1.0.0",
            "layout": "IPY_MODEL_5d80bde1220947328bba8de005efe512",
            "_model_module": "@jupyter-widgets/output"
          }
        },
        "931964b6ce8a4bb483d129e71772f43f": {
          "model_module": "@jupyter-widgets/controls",
          "model_name": "SliderStyleModel",
          "state": {
            "_view_name": "StyleView",
            "handle_color": null,
            "_model_name": "SliderStyleModel",
            "description_width": "",
            "_view_module": "@jupyter-widgets/base",
            "_model_module_version": "1.5.0",
            "_view_count": null,
            "_view_module_version": "1.2.0",
            "_model_module": "@jupyter-widgets/controls"
          }
        },
        "7665cc0359d142bb8712779175b5ebde": {
          "model_module": "@jupyter-widgets/base",
          "model_name": "LayoutModel",
          "state": {
            "_view_name": "LayoutView",
            "grid_template_rows": null,
            "right": null,
            "justify_content": null,
            "_view_module": "@jupyter-widgets/base",
            "overflow": null,
            "_model_module_version": "1.2.0",
            "_view_count": null,
            "flex_flow": null,
            "width": null,
            "min_width": null,
            "border": null,
            "align_items": null,
            "bottom": null,
            "_model_module": "@jupyter-widgets/base",
            "top": null,
            "grid_column": null,
            "overflow_y": null,
            "overflow_x": null,
            "grid_auto_flow": null,
            "grid_area": null,
            "grid_template_columns": null,
            "flex": null,
            "_model_name": "LayoutModel",
            "justify_items": null,
            "grid_row": null,
            "max_height": null,
            "align_content": null,
            "visibility": null,
            "align_self": null,
            "height": null,
            "min_height": null,
            "padding": null,
            "grid_auto_rows": null,
            "grid_gap": null,
            "max_width": null,
            "order": null,
            "_view_module_version": "1.2.0",
            "grid_template_areas": null,
            "object_position": null,
            "object_fit": null,
            "grid_auto_columns": null,
            "margin": null,
            "display": null,
            "left": null
          }
        },
        "c70da5512180417f8eb892e6e634f41c": {
          "model_module": "@jupyter-widgets/controls",
          "model_name": "SliderStyleModel",
          "state": {
            "_view_name": "StyleView",
            "handle_color": null,
            "_model_name": "SliderStyleModel",
            "description_width": "",
            "_view_module": "@jupyter-widgets/base",
            "_model_module_version": "1.5.0",
            "_view_count": null,
            "_view_module_version": "1.2.0",
            "_model_module": "@jupyter-widgets/controls"
          }
        },
        "7bc105f610ef4cde885b01c170a51fd4": {
          "model_module": "@jupyter-widgets/base",
          "model_name": "LayoutModel",
          "state": {
            "_view_name": "LayoutView",
            "grid_template_rows": null,
            "right": null,
            "justify_content": null,
            "_view_module": "@jupyter-widgets/base",
            "overflow": null,
            "_model_module_version": "1.2.0",
            "_view_count": null,
            "flex_flow": null,
            "width": null,
            "min_width": null,
            "border": null,
            "align_items": null,
            "bottom": null,
            "_model_module": "@jupyter-widgets/base",
            "top": null,
            "grid_column": null,
            "overflow_y": null,
            "overflow_x": null,
            "grid_auto_flow": null,
            "grid_area": null,
            "grid_template_columns": null,
            "flex": null,
            "_model_name": "LayoutModel",
            "justify_items": null,
            "grid_row": null,
            "max_height": null,
            "align_content": null,
            "visibility": null,
            "align_self": null,
            "height": null,
            "min_height": null,
            "padding": null,
            "grid_auto_rows": null,
            "grid_gap": null,
            "max_width": null,
            "order": null,
            "_view_module_version": "1.2.0",
            "grid_template_areas": null,
            "object_position": null,
            "object_fit": null,
            "grid_auto_columns": null,
            "margin": null,
            "display": null,
            "left": null
          }
        },
        "5d80bde1220947328bba8de005efe512": {
          "model_module": "@jupyter-widgets/base",
          "model_name": "LayoutModel",
          "state": {
            "_view_name": "LayoutView",
            "grid_template_rows": null,
            "right": null,
            "justify_content": null,
            "_view_module": "@jupyter-widgets/base",
            "overflow": null,
            "_model_module_version": "1.2.0",
            "_view_count": null,
            "flex_flow": null,
            "width": null,
            "min_width": null,
            "border": null,
            "align_items": null,
            "bottom": null,
            "_model_module": "@jupyter-widgets/base",
            "top": null,
            "grid_column": null,
            "overflow_y": null,
            "overflow_x": null,
            "grid_auto_flow": null,
            "grid_area": null,
            "grid_template_columns": null,
            "flex": null,
            "_model_name": "LayoutModel",
            "justify_items": null,
            "grid_row": null,
            "max_height": null,
            "align_content": null,
            "visibility": null,
            "align_self": null,
            "height": null,
            "min_height": null,
            "padding": null,
            "grid_auto_rows": null,
            "grid_gap": null,
            "max_width": null,
            "order": null,
            "_view_module_version": "1.2.0",
            "grid_template_areas": null,
            "object_position": null,
            "object_fit": null,
            "grid_auto_columns": null,
            "margin": null,
            "display": null,
            "left": null
          }
        },
        "fa48dc38038448f1bff2719a3374dc2b": {
          "model_module": "@jupyter-widgets/controls",
          "model_name": "VBoxModel",
          "state": {
            "_view_name": "VBoxView",
            "_dom_classes": [
              "widget-interact"
            ],
            "_model_name": "VBoxModel",
            "_view_module": "@jupyter-widgets/controls",
            "_model_module_version": "1.5.0",
            "_view_count": null,
            "_view_module_version": "1.5.0",
            "box_style": "",
            "layout": "IPY_MODEL_ce567168cded4169837a95c1dcae3c58",
            "_model_module": "@jupyter-widgets/controls",
            "children": [
              "IPY_MODEL_9ff3d1378b4c4a61bd843dff349a8c7d",
              "IPY_MODEL_63de3f117ad8486f98864e9257ad7f8f"
            ]
          }
        },
        "ce567168cded4169837a95c1dcae3c58": {
          "model_module": "@jupyter-widgets/base",
          "model_name": "LayoutModel",
          "state": {
            "_view_name": "LayoutView",
            "grid_template_rows": null,
            "right": null,
            "justify_content": null,
            "_view_module": "@jupyter-widgets/base",
            "overflow": null,
            "_model_module_version": "1.2.0",
            "_view_count": null,
            "flex_flow": null,
            "width": null,
            "min_width": null,
            "border": null,
            "align_items": null,
            "bottom": null,
            "_model_module": "@jupyter-widgets/base",
            "top": null,
            "grid_column": null,
            "overflow_y": null,
            "overflow_x": null,
            "grid_auto_flow": null,
            "grid_area": null,
            "grid_template_columns": null,
            "flex": null,
            "_model_name": "LayoutModel",
            "justify_items": null,
            "grid_row": null,
            "max_height": null,
            "align_content": null,
            "visibility": null,
            "align_self": null,
            "height": null,
            "min_height": null,
            "padding": null,
            "grid_auto_rows": null,
            "grid_gap": null,
            "max_width": null,
            "order": null,
            "_view_module_version": "1.2.0",
            "grid_template_areas": null,
            "object_position": null,
            "object_fit": null,
            "grid_auto_columns": null,
            "margin": null,
            "display": null,
            "left": null
          }
        },
        "9ff3d1378b4c4a61bd843dff349a8c7d": {
          "model_module": "@jupyter-widgets/controls",
          "model_name": "FloatSliderModel",
          "state": {
            "_view_name": "FloatSliderView",
            "style": "IPY_MODEL_1a61a956c3a349419869f2eb692df44b",
            "_dom_classes": [],
            "description": "r_init",
            "step": 0.02,
            "_model_name": "FloatSliderModel",
            "orientation": "horizontal",
            "max": 1,
            "_view_module": "@jupyter-widgets/controls",
            "_model_module_version": "1.5.0",
            "value": 0.84,
            "_view_count": null,
            "disabled": false,
            "_view_module_version": "1.5.0",
            "min": 0,
            "continuous_update": true,
            "readout_format": ".2f",
            "description_tooltip": null,
            "readout": true,
            "_model_module": "@jupyter-widgets/controls",
            "layout": "IPY_MODEL_67cd10d7a9df4456ba92b65b186e361f"
          }
        },
        "63de3f117ad8486f98864e9257ad7f8f": {
          "model_module": "@jupyter-widgets/output",
          "model_name": "OutputModel",
          "state": {
            "_view_name": "OutputView",
            "msg_id": "",
            "_dom_classes": [],
            "_model_name": "OutputModel",
            "outputs": [
              {
                "output_type": "display_data",
                "metadata": {
                  "tags": [],
                  "needs_background": "light"
                },
                "image/png": "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\n",
                "text/plain": "<Figure size 432x288 with 1 Axes>"
              }
            ],
            "_view_module": "@jupyter-widgets/output",
            "_model_module_version": "1.0.0",
            "_view_count": null,
            "_view_module_version": "1.0.0",
            "layout": "IPY_MODEL_64de4b0b82fa437ebfb9474ac354a1a7",
            "_model_module": "@jupyter-widgets/output"
          }
        },
        "1a61a956c3a349419869f2eb692df44b": {
          "model_module": "@jupyter-widgets/controls",
          "model_name": "SliderStyleModel",
          "state": {
            "_view_name": "StyleView",
            "handle_color": null,
            "_model_name": "SliderStyleModel",
            "description_width": "",
            "_view_module": "@jupyter-widgets/base",
            "_model_module_version": "1.5.0",
            "_view_count": null,
            "_view_module_version": "1.2.0",
            "_model_module": "@jupyter-widgets/controls"
          }
        },
        "67cd10d7a9df4456ba92b65b186e361f": {
          "model_module": "@jupyter-widgets/base",
          "model_name": "LayoutModel",
          "state": {
            "_view_name": "LayoutView",
            "grid_template_rows": null,
            "right": null,
            "justify_content": null,
            "_view_module": "@jupyter-widgets/base",
            "overflow": null,
            "_model_module_version": "1.2.0",
            "_view_count": null,
            "flex_flow": null,
            "width": null,
            "min_width": null,
            "border": null,
            "align_items": null,
            "bottom": null,
            "_model_module": "@jupyter-widgets/base",
            "top": null,
            "grid_column": null,
            "overflow_y": null,
            "overflow_x": null,
            "grid_auto_flow": null,
            "grid_area": null,
            "grid_template_columns": null,
            "flex": null,
            "_model_name": "LayoutModel",
            "justify_items": null,
            "grid_row": null,
            "max_height": null,
            "align_content": null,
            "visibility": null,
            "align_self": null,
            "height": null,
            "min_height": null,
            "padding": null,
            "grid_auto_rows": null,
            "grid_gap": null,
            "max_width": null,
            "order": null,
            "_view_module_version": "1.2.0",
            "grid_template_areas": null,
            "object_position": null,
            "object_fit": null,
            "grid_auto_columns": null,
            "margin": null,
            "display": null,
            "left": null
          }
        },
        "64de4b0b82fa437ebfb9474ac354a1a7": {
          "model_module": "@jupyter-widgets/base",
          "model_name": "LayoutModel",
          "state": {
            "_view_name": "LayoutView",
            "grid_template_rows": null,
            "right": null,
            "justify_content": null,
            "_view_module": "@jupyter-widgets/base",
            "overflow": null,
            "_model_module_version": "1.2.0",
            "_view_count": null,
            "flex_flow": null,
            "width": null,
            "min_width": null,
            "border": null,
            "align_items": null,
            "bottom": null,
            "_model_module": "@jupyter-widgets/base",
            "top": null,
            "grid_column": null,
            "overflow_y": null,
            "overflow_x": null,
            "grid_auto_flow": null,
            "grid_area": null,
            "grid_template_columns": null,
            "flex": null,
            "_model_name": "LayoutModel",
            "justify_items": null,
            "grid_row": null,
            "max_height": null,
            "align_content": null,
            "visibility": null,
            "align_self": null,
            "height": null,
            "min_height": null,
            "padding": null,
            "grid_auto_rows": null,
            "grid_gap": null,
            "max_width": null,
            "order": null,
            "_view_module_version": "1.2.0",
            "grid_template_areas": null,
            "object_position": null,
            "object_fit": null,
            "grid_auto_columns": null,
            "margin": null,
            "display": null,
            "left": null
          }
        }
      }
    }
  },
  "cells": [
    {
      "cell_type": "markdown",
      "metadata": {
        "id": "view-in-github",
        "colab_type": "text"
      },
      "source": [
        "<a href=\"https://colab.research.google.com/github/Pa-lillo/PaliNeuroMatch/blob/main/tutorials/W2D4_DynamicNetworks/W2D4_Tutorial1.ipynb\" target=\"_parent\"><img src=\"https://colab.research.google.com/assets/colab-badge.svg\" alt=\"Open In Colab\"/></a>"
      ]
    },
    {
      "cell_type": "markdown",
      "metadata": {
        "execution": {},
        "id": "lmSMiDvcNglA"
      },
      "source": [
        "# Tutorial 1: Neural Rate Models\n",
        "**Week 2, Day 4: Dynamic Networks**\n",
        "\n",
        "**By Neuromatch Academy**\n",
        "\n",
        "__Content creators:__ Qinglong Gu, Songtin Li, Arvind Kumar, John Murray, Julijana Gjorgjieva \n",
        "\n",
        "__Content reviewers:__  Maryam Vaziri-Pashkam, Ella Batty, Lorenzo Fontolan, Richard Gao, Spiros Chavlis, Michael Waskom, Siddharth Suresh"
      ]
    },
    {
      "cell_type": "markdown",
      "metadata": {
        "execution": {},
        "id": "910Xk73HNglC"
      },
      "source": [
        "**Our 2021 Sponsors, including Presenting Sponsor Facebook Reality Labs**\n",
        "\n",
        "<p align='center'><img src='https://github.com/NeuromatchAcademy/widgets/blob/master/sponsors.png?raw=True'/></p>"
      ]
    },
    {
      "cell_type": "markdown",
      "metadata": {
        "execution": {},
        "id": "meIGvqYFNglC"
      },
      "source": [
        "---\n",
        "# Tutorial Objectives\n",
        "\n",
        "*Estimated timing of tutorial: 1 hour, 25 minutes*\n",
        "\n",
        "The brain is a complex system, not because it is composed of a large number of diverse types of neurons, but mainly because of how neurons are connected to each other. The brain is indeed a network of highly specialized neuronal networks. \n",
        "\n",
        "The activity of a neural network constantly evolves in time. For this reason, neurons can be modeled as dynamical systems. The dynamical system approach is only one of the many modeling approaches that computational neuroscientists have developed (other points of view include information processing,  statistical models, etc.). \n",
        "\n",
        "How the dynamics of neuronal networks affect the representation and processing of information in the brain is an open question. However, signatures of altered brain dynamics present in many brain diseases (e.g., in epilepsy or Parkinson's disease) tell us that it is crucial to study network activity dynamics if we want to understand the brain.\n",
        "\n",
        "In this tutorial, we will simulate and study one of the simplest models of biological neuronal networks. Instead of modeling and simulating individual excitatory neurons (e.g., LIF models that you implemented yesterday), we will treat them as a single homogeneous population and approximate their dynamics using a single one-dimensional equation describing the evolution of their average spiking rate in time.\n",
        "\n",
        "In this tutorial, we will learn how to build a firing rate model of a single population of excitatory neurons. \n",
        "\n",
        "**Steps:**\n",
        "- Write the equation for the firing rate dynamics of a 1D excitatory population.\n",
        "- Visualize the response of the population as a function of parameters such as threshold level and gain, using the frequency-current (F-I) curve.\n",
        "- Numerically simulate the dynamics of the excitatory population and find the fixed points of the system. \n",
        "\n"
      ]
    },
    {
      "cell_type": "code",
      "metadata": {
        "cellView": "form",
        "execution": {},
        "id": "oW1HVzilNglD"
      },
      "source": [
        "# @title Tutorial slides\n",
        "\n",
        "# @markdown These are the slides for the videos in all tutorials today\n",
        "from IPython.display import IFrame\n",
        "IFrame(src=f\"https://mfr.ca-1.osf.io/render?url=https://osf.io/nvuty/?direct%26mode=render%26action=download%26mode=render\", width=854, height=480)"
      ],
      "execution_count": null,
      "outputs": []
    },
    {
      "cell_type": "markdown",
      "metadata": {
        "execution": {},
        "id": "QNIS0A5jNglD"
      },
      "source": [
        "---\n",
        "# Setup"
      ]
    },
    {
      "cell_type": "code",
      "metadata": {
        "cellView": "both",
        "execution": {},
        "id": "3M4XX62oNglE"
      },
      "source": [
        "# Imports\n",
        "\n",
        "import matplotlib.pyplot as plt\n",
        "import numpy as np\n",
        "import scipy.optimize as opt       # root-finding algorithm"
      ],
      "execution_count": 1,
      "outputs": []
    },
    {
      "cell_type": "code",
      "metadata": {
        "cellView": "form",
        "execution": {},
        "id": "P5IdNLyCNglE"
      },
      "source": [
        "# @title Figure Settings\n",
        "import ipywidgets as widgets       # interactive display\n",
        "%config InlineBackend.figure_format = 'retina'\n",
        "plt.style.use(\"https://raw.githubusercontent.com/NeuromatchAcademy/course-content/master/nma.mplstyle\")"
      ],
      "execution_count": null,
      "outputs": []
    },
    {
      "cell_type": "code",
      "metadata": {
        "cellView": "form",
        "execution": {},
        "id": "YkzfEvBkNglE"
      },
      "source": [
        "# @title Plotting Functions\n",
        "\n",
        "\n",
        "def plot_fI(x, f):\n",
        "  plt.figure(figsize=(6, 4))  # plot the figure\n",
        "  plt.plot(x, f, 'k')\n",
        "  plt.xlabel('x (a.u.)', fontsize=14)\n",
        "  plt.ylabel('F(x)', fontsize=14)\n",
        "  plt.show()\n",
        "\n",
        "\n",
        "def plot_dr_r(r, drdt, x_fps=None):\n",
        "  plt.figure()\n",
        "  plt.plot(r, drdt, 'k')\n",
        "  plt.plot(r, 0. * r, 'k--')\n",
        "  if x_fps is not None:\n",
        "    plt.plot(x_fps, np.zeros_like(x_fps), \"ko\", ms=12)\n",
        "  plt.xlabel(r'$r$')\n",
        "  plt.ylabel(r'$\\frac{dr}{dt}$', fontsize=20)\n",
        "  plt.ylim(-0.1, 0.1)\n",
        "\n",
        "\n",
        "def plot_dFdt(x, dFdt):\n",
        "  plt.figure()\n",
        "  plt.plot(x, dFdt, 'r')\n",
        "  plt.xlabel('x (a.u.)', fontsize=14)\n",
        "  plt.ylabel('dF(x)', fontsize=14)\n",
        "  plt.show()"
      ],
      "execution_count": 2,
      "outputs": []
    },
    {
      "cell_type": "markdown",
      "metadata": {
        "execution": {},
        "id": "UvjfrsPxNglF"
      },
      "source": [
        "---\n",
        "# Section 1: Neuronal network dynamics"
      ]
    },
    {
      "cell_type": "code",
      "metadata": {
        "cellView": "form",
        "execution": {},
        "id": "tImvRZMyNglF",
        "outputId": "5e69c1e2-1bfe-476b-df2f-6a1dd7cb95b9",
        "colab": {
          "base_uri": "https://localhost:8080/",
          "height": 581,
          "referenced_widgets": [
            "98c02530fa314a4b96d30b3b11c46475",
            "5e1c870743a14f4e83fcccde5d407c57",
            "2fa5426c17ad48708c63088ae011431c",
            "43b400941e9c472fba81252031d927b6",
            "94cdac749c4549b1a729490b37207b7c",
            "816df068d84b4d77a60bc15ee2a47a65"
          ]
        }
      },
      "source": [
        "# @title Video 1: Dynamic networks\n",
        "from ipywidgets import widgets\n",
        "\n",
        "out2 = widgets.Output()\n",
        "with out2:\n",
        "  from IPython.display import IFrame\n",
        "  class BiliVideo(IFrame):\n",
        "      def __init__(self, id, page=1, width=400, height=300, **kwargs):\n",
        "          self.id=id\n",
        "          src = 'https://player.bilibili.com/player.html?bvid={0}&page={1}'.format(id, page)\n",
        "          super(BiliVideo, self).__init__(src, width, height, **kwargs)\n",
        "\n",
        "  video = BiliVideo(id=\"BV1dh411o7qJ\", width=854, height=480, fs=1)\n",
        "  print('Video available at https://www.bilibili.com/video/{0}'.format(video.id))\n",
        "  display(video)\n",
        "\n",
        "out1 = widgets.Output()\n",
        "with out1:\n",
        "  from IPython.display import YouTubeVideo\n",
        "  video = YouTubeVideo(id=\"p848349hPyw\", width=854, height=480, fs=1, rel=0)\n",
        "  print('Video available at https://youtube.com/watch?v=' + video.id)\n",
        "  display(video)\n",
        "\n",
        "out = widgets.Tab([out1, out2])\n",
        "out.set_title(0, 'Youtube')\n",
        "out.set_title(1, 'Bilibili')\n",
        "\n",
        "display(out)"
      ],
      "execution_count": 3,
      "outputs": [
        {
          "output_type": "display_data",
          "data": {
            "application/vnd.jupyter.widget-view+json": {
              "model_id": "98c02530fa314a4b96d30b3b11c46475",
              "version_minor": 0,
              "version_major": 2
            },
            "text/plain": [
              "Tab(children=(Output(), Output()), _titles={'0': 'Youtube', '1': 'Bilibili'})"
            ]
          },
          "metadata": {
            "tags": []
          }
        }
      ]
    },
    {
      "cell_type": "markdown",
      "metadata": {
        "execution": {},
        "id": "C1y23PcaNglG"
      },
      "source": [
        "This video covers how to model a network with a single population of neurons and introduces neural rate-based models. It overviews feedforward networks and defines the F-I (firing rate vs. input) curve."
      ]
    },
    {
      "cell_type": "markdown",
      "metadata": {
        "execution": {},
        "id": "hXNJ8xB8NglG"
      },
      "source": [
        "## Section 1.1: Dynamics of a single excitatory population\n",
        "\n",
        "\n",
        "<details>\n",
        "<summary> <font color='blue'>Click here for text recap of relevant part of video </font></summary>\n",
        "\n",
        "Individual neurons respond by spiking. When we average the spikes of neurons in a population, we can define the average firing activity of the population. In this model, we are interested in how the population-averaged firing varies as a function of time and network parameters. Mathematically, we can describe the firing rate dynamic of a feed-forward network as:\n",
        "\n",
        "\\begin{align}\n",
        "\\tau \\frac{dr}{dt} &= -r + F(I_{\\text{ext}})  \\quad\\qquad (1)\n",
        "\\end{align}\n",
        "\n",
        "$r(t)$ represents the average firing rate of the excitatory population at time $t$, $\\tau$ controls the timescale of the evolution of the average firing rate, $I_{\\text{ext}}$ represents the external input, and the transfer function $F(\\cdot)$ (which can be related to f-I curve of individual neurons described in the next sections) represents the population activation function in response to all received inputs.\n",
        "\n",
        "</details>\n",
        "\n",
        "To start building the model, please execute the cell below to initialize the simulation parameters."
      ]
    },
    {
      "cell_type": "code",
      "metadata": {
        "execution": {},
        "cellView": "form",
        "id": "3LwBJWtMNglG",
        "outputId": "2d57642b-9541-4296-aa41-1a923ce4fcb4",
        "colab": {
          "base_uri": "https://localhost:8080/"
        }
      },
      "source": [
        "# @markdown *Execute this cell to set default parameters for a single excitatory population model*\n",
        "\n",
        "\n",
        "def default_pars_single(**kwargs):\n",
        "  pars = {}\n",
        "\n",
        "  # Excitatory parameters\n",
        "  pars['tau'] = 1.     # Timescale of the E population [ms]\n",
        "  pars['a'] = 1.2      # Gain of the E population\n",
        "  pars['theta'] = 2.8  # Threshold of the E population\n",
        "\n",
        "  # Connection strength\n",
        "  pars['w'] = 0.  # E to E, we first set it to 0\n",
        "\n",
        "  # External input\n",
        "  pars['I_ext'] = 0.\n",
        "\n",
        "  # simulation parameters\n",
        "  pars['T'] = 20.       # Total duration of simulation [ms]\n",
        "  pars['dt'] = .1       # Simulation time step [ms]\n",
        "  pars['r_init'] = 0.2  # Initial value of E\n",
        "\n",
        "  # External parameters if any\n",
        "  pars.update(kwargs)\n",
        "\n",
        "  # Vector of discretized time points [ms]\n",
        "  pars['range_t'] = np.arange(0, pars['T'], pars['dt'])\n",
        "\n",
        "  return pars\n",
        "\n",
        "pars = default_pars_single()\n",
        "print(pars)"
      ],
      "execution_count": 4,
      "outputs": [
        {
          "output_type": "stream",
          "text": [
            "{'tau': 1.0, 'a': 1.2, 'theta': 2.8, 'w': 0.0, 'I_ext': 0.0, 'T': 20.0, 'dt': 0.1, 'r_init': 0.2, 'range_t': array([ 0. ,  0.1,  0.2,  0.3,  0.4,  0.5,  0.6,  0.7,  0.8,  0.9,  1. ,\n",
            "        1.1,  1.2,  1.3,  1.4,  1.5,  1.6,  1.7,  1.8,  1.9,  2. ,  2.1,\n",
            "        2.2,  2.3,  2.4,  2.5,  2.6,  2.7,  2.8,  2.9,  3. ,  3.1,  3.2,\n",
            "        3.3,  3.4,  3.5,  3.6,  3.7,  3.8,  3.9,  4. ,  4.1,  4.2,  4.3,\n",
            "        4.4,  4.5,  4.6,  4.7,  4.8,  4.9,  5. ,  5.1,  5.2,  5.3,  5.4,\n",
            "        5.5,  5.6,  5.7,  5.8,  5.9,  6. ,  6.1,  6.2,  6.3,  6.4,  6.5,\n",
            "        6.6,  6.7,  6.8,  6.9,  7. ,  7.1,  7.2,  7.3,  7.4,  7.5,  7.6,\n",
            "        7.7,  7.8,  7.9,  8. ,  8.1,  8.2,  8.3,  8.4,  8.5,  8.6,  8.7,\n",
            "        8.8,  8.9,  9. ,  9.1,  9.2,  9.3,  9.4,  9.5,  9.6,  9.7,  9.8,\n",
            "        9.9, 10. , 10.1, 10.2, 10.3, 10.4, 10.5, 10.6, 10.7, 10.8, 10.9,\n",
            "       11. , 11.1, 11.2, 11.3, 11.4, 11.5, 11.6, 11.7, 11.8, 11.9, 12. ,\n",
            "       12.1, 12.2, 12.3, 12.4, 12.5, 12.6, 12.7, 12.8, 12.9, 13. , 13.1,\n",
            "       13.2, 13.3, 13.4, 13.5, 13.6, 13.7, 13.8, 13.9, 14. , 14.1, 14.2,\n",
            "       14.3, 14.4, 14.5, 14.6, 14.7, 14.8, 14.9, 15. , 15.1, 15.2, 15.3,\n",
            "       15.4, 15.5, 15.6, 15.7, 15.8, 15.9, 16. , 16.1, 16.2, 16.3, 16.4,\n",
            "       16.5, 16.6, 16.7, 16.8, 16.9, 17. , 17.1, 17.2, 17.3, 17.4, 17.5,\n",
            "       17.6, 17.7, 17.8, 17.9, 18. , 18.1, 18.2, 18.3, 18.4, 18.5, 18.6,\n",
            "       18.7, 18.8, 18.9, 19. , 19.1, 19.2, 19.3, 19.4, 19.5, 19.6, 19.7,\n",
            "       19.8, 19.9])}\n"
          ],
          "name": "stdout"
        }
      ]
    },
    {
      "cell_type": "markdown",
      "metadata": {
        "execution": {},
        "id": "-7YC0dF0NglH"
      },
      "source": [
        "You can now use:\n",
        "- `pars = default_pars_single()` to get all the parameters. \n",
        "- `pars = default_pars_single(T=T_sim, dt=time_step)` to set new simulation time and time step\n",
        "- To update an existing parameter dictionary, use `pars['New_para'] = value`\n",
        "\n",
        "Because `pars` is a dictionary, it can be passed to a function that requires individual parameters as arguments using `my_func(**pars)` syntax."
      ]
    },
    {
      "cell_type": "markdown",
      "metadata": {
        "execution": {},
        "id": "ACv1GkiENglH"
      },
      "source": [
        "## Section 1.2: F-I curves\n",
        "\n",
        "*Estimated timing to here from start of tutorial: 17 min*\n",
        "\n",
        "<details>\n",
        "<summary> <font color='blue'>Click here for text recap of relevant part of video </font></summary>\n",
        "\n",
        "In electrophysiology, a neuron is often characterized by its spike rate output in response to input currents. This is often called the **F-I** curve, denoting the output spike frequency (**F**) in response to different injected currents (**I**). We estimated this for an LIF neuron in yesterday's tutorial.\n",
        "\n",
        "The transfer function $F(\\cdot)$ in Equation $1$ represents the gain of the population as a function of the total input. The gain is often modeled as a sigmoidal function, i.e., more input drive leads to a nonlinear increase in the population firing rate. The output firing rate will eventually saturate for high input values. \n",
        "\n",
        "A sigmoidal $F(\\cdot)$ is parameterized by its gain $a$ and threshold $\\theta$.\n",
        "\n",
        "$$ F(x;a,\\theta) = \\frac{1}{1+\\text{e}^{-a(x-\\theta)}} - \\frac{1}{1+\\text{e}^{a\\theta}}  \\quad(2)$$\n",
        "\n",
        "The argument $x$ represents the input to the population. Note that the second term is chosen so that $F(0;a,\\theta)=0$.\n",
        "\n",
        "Many other transfer functions (generally monotonic) can be also used. Examples are the rectified linear function $ReLU(x)$ or the hyperbolic tangent $tanh(x)$."
      ]
    },
    {
      "cell_type": "markdown",
      "metadata": {
        "execution": {},
        "id": "WUyGFHEDNglH"
      },
      "source": [
        "### Coding Exercise 1.2: Implement F-I curve \n",
        "\n",
        "Let's first investigate the activation functions before simulating the dynamics of the entire population. \n",
        "\n",
        "In this exercise, you will implement a sigmoidal **F-I** curve or transfer function $F(x)$, with gain $a$ and threshold level $\\theta$ as parameters:\n",
        "\n",
        "$$ F(x;a,\\theta) = \\frac{1}{1+\\text{e}^{-a(x-\\theta)}} - \\frac{1}{1+\\text{e}^{a\\theta}}$$"
      ]
    },
    {
      "cell_type": "code",
      "metadata": {
        "execution": {},
        "id": "fTqMV2zXNglI",
        "outputId": "98c60950-aff9-4518-ac9f-f8684532e4bf",
        "colab": {
          "base_uri": "https://localhost:8080/",
          "height": 284
        }
      },
      "source": [
        "def F(x, a, theta):\n",
        "  \"\"\"\n",
        "  Population activation function.\n",
        "\n",
        "  Args:\n",
        "    x (float): the population input\n",
        "    a (float): the gain of the function\n",
        "    theta (float): the threshold of the function\n",
        "\n",
        "  Returns:\n",
        "    float: the population activation response F(x) for input x\n",
        "  \"\"\"\n",
        "  #################################################\n",
        "  ## TODO for students: compute f = F(x) ##\n",
        "  # Fill out function and remove\n",
        "  #raise NotImplementedError(\"Student excercise: implement the f-I function\")\n",
        "  #################################################\n",
        "\n",
        "  # Define the sigmoidal transfer function f = F(x)\n",
        "  f = (1/(1 + np.exp(-a*(x-theta)))) - (1/(1 + np.exp(a * theta)))\n",
        "\n",
        "  return f\n",
        "\n",
        "\n",
        "# Set parameters\n",
        "pars = default_pars_single()  # get default parameters\n",
        "x = np.arange(0, 10, .1)      # set the range of input\n",
        "\n",
        "# Compute transfer function\n",
        "f = F(x, pars['a'], pars['theta'])\n",
        "\n",
        "# Visualize\n",
        "plot_fI(x, f)"
      ],
      "execution_count": 5,
      "outputs": [
        {
          "output_type": "display_data",
          "data": {
            "image/png": "[encoded data removed]",
            "text/plain": [
              "<Figure size 432x288 with 1 Axes>"
            ]
          },
          "metadata": {
            "tags": [],
            "needs_background": "light"
          }
        }
      ]
    },
    {
      "cell_type": "code",
      "metadata": {
        "cellView": "both",
        "execution": {},
        "id": "3PZeOP7rNglI",
        "outputId": "cb5ab3a9-9800-47bc-b480-38a5358ec039",
        "colab": {
          "base_uri": "https://localhost:8080/",
          "height": 287
        }
      },
      "source": [
        "# to_remove solution\n",
        "\n",
        "def F(x, a, theta):\n",
        "  \"\"\"\n",
        "  Population activation function.\n",
        "\n",
        "  Args:\n",
        "    x (float): the population input\n",
        "    a (float): the gain of the function\n",
        "    theta (float): the threshold of the function\n",
        "\n",
        "  Returns:\n",
        "    float: the population activation response F(x) for input x\n",
        "  \"\"\"\n",
        "\n",
        "  # Define the sigmoidal transfer function f = F(x)\n",
        "  f = (1 + np.exp(-a * (x - theta)))**-1 - (1 + np.exp(a * theta))**-1\n",
        "\n",
        "  return f\n",
        "\n",
        "\n",
        "# Set parameters\n",
        "pars = default_pars_single()  # get default parameters\n",
        "x = np.arange(0, 10, .1)      # set the range of input\n",
        "\n",
        "# Compute transfer function\n",
        "f = F(x, pars['a'], pars['theta'])\n",
        "\n",
        "# Visualize\n",
        "with plt.xkcd():\n",
        "  plot_fI(x, f)"
      ],
      "execution_count": 6,
      "outputs": [
        {
          "output_type": "display_data",
          "data": {
            "image/png": "[encoded data removed]",
            "text/plain": [
              "<Figure size 432x288 with 1 Axes>"
            ]
          },
          "metadata": {
            "tags": []
          }
        }
      ]
    },
    {
      "cell_type": "markdown",
      "metadata": {
        "execution": {},
        "id": "rB_A361tNglI"
      },
      "source": [
        "### Interactive Demo 1.2 : Parameter exploration of F-I curve\n",
        "Here's an interactive demo that shows how the F-I curve changes for different values of the gain and threshold parameters. \n",
        "\n",
        "1. How does the gain parameter ($a$) affect the F-I curve?\n",
        "1. How does the threshold parameter ($\\theta$) affect the F-I curve?"
      ]
    },
    {
      "cell_type": "code",
      "metadata": {
        "cellView": "form",
        "execution": {},
        "id": "Wel8Y6l_NglJ",
        "outputId": "e0561b28-cd74-415e-9019-9262c8ba9720",
        "colab": {
          "base_uri": "https://localhost:8080/",
          "height": 347,
          "referenced_widgets": [
            "d6eacb3d54ae4d76af43df18bc9eb16e",
            "0c4e8d975df547b3bdb4acdca334d201",
            "c02cb672aae742169c82015d2f9d0aa5",
            "e8efbb3c70b047ed95269cc6c961a85d",
            "b2177c9cd8084eb790d385171b7b82a1",
            "0a12936c10c3432494443241e7a88770",
            "0575e1e35480456bbfa3fbde5c5c0773",
            "d77045a3e8ac4f79aae6737ca74df499",
            "bbf1772fb8a44d9ba98fc7370f211103",
            "985b04bb2d5f428c98d8c98246738788"
          ]
        }
      },
      "source": [
        "# @title\n",
        "\n",
        "# @markdown Make sure you execute this cell to enable the widget!\n",
        "\n",
        "\n",
        "def interactive_plot_FI(a, theta):\n",
        "  \"\"\"\n",
        "  Population activation function.\n",
        "\n",
        "  Expecxts:\n",
        "    a     : the gain of the function\n",
        "    theta : the threshold of the function\n",
        "\n",
        "  Returns:\n",
        "    plot the F-I curve with give parameters\n",
        "  \"\"\"\n",
        "\n",
        "  # set the range of input\n",
        "  x = np.arange(0, 10, .1)\n",
        "  plt.figure()\n",
        "  plt.plot(x, F(x, a, theta), 'k')\n",
        "  plt.xlabel('x (a.u.)', fontsize=14)\n",
        "  plt.ylabel('F(x)', fontsize=14)\n",
        "  plt.show()\n",
        "\n",
        "\n",
        "_ = widgets.interact(interactive_plot_FI, a=(0.3, 3, 0.3), theta=(2, 4, 0.2))"
      ],
      "execution_count": 7,
      "outputs": [
        {
          "output_type": "display_data",
          "data": {
            "application/vnd.jupyter.widget-view+json": {
              "model_id": "d6eacb3d54ae4d76af43df18bc9eb16e",
              "version_minor": 0,
              "version_major": 2
            },
            "text/plain": [
              "interactive(children=(FloatSlider(value=1.5, description='a', max=3.0, min=0.3, step=0.3), FloatSlider(value=3…"
            ]
          },
          "metadata": {
            "tags": []
          }
        }
      ]
    },
    {
      "cell_type": "code",
      "metadata": {
        "execution": {},
        "id": "1k4k-uUcNglJ"
      },
      "source": [
        "# to_remove explanation\n",
        "\n",
        "\"\"\"\n",
        "\n",
        "1)  a determines the slope (gain) of the rising phase of the F-I curve\n",
        "\n",
        "2) theta determines the input at which the function F(x) reaches its mid-value (0.5).\n",
        "That is, theta shifts the F-I curve along the horizontal axis.\n",
        "\n",
        "For our neurons we are using in this tutorial:\n",
        "- a controls the gain of the neuron population\n",
        "- theta controls the threshold at which the neuron population starts to respond\n",
        "\"\"\";"
      ],
      "execution_count": null,
      "outputs": []
    },
    {
      "cell_type": "markdown",
      "metadata": {
        "execution": {},
        "id": "Ho86cRPHNglJ"
      },
      "source": [
        "## Section 1.3: Simulation scheme of E dynamics\n",
        "\n",
        "*Estimated timing to here from start of tutorial: 27 min*\n",
        "\n",
        "Because $F(\\cdot)$ is a nonlinear function, the exact solution of our differential equation of population activity can not be determined via analytical methods. As we have seen before, we can use numerical methods, specifically the Euler method, to find the solution (that is, simulate the population activity).\n",
        "\n"
      ]
    },
    {
      "cell_type": "code",
      "metadata": {
        "cellView": "form",
        "execution": {},
        "id": "KuzPo92nNglJ",
        "outputId": "162b7d85-0d88-4e56-e580-fcc399e59b92",
        "colab": {
          "base_uri": "https://localhost:8080/"
        }
      },
      "source": [
        "# @markdown *Execute this cell to enable the single population rate model simulator: `simulate_single`*\n",
        "\n",
        "\n",
        "def simulate_single(pars):\n",
        "  \"\"\"\n",
        "  Simulate an excitatory population of neurons\n",
        "\n",
        "  Args:\n",
        "    pars   : Parameter dictionary\n",
        "\n",
        "  Returns:\n",
        "    rE     : Activity of excitatory population (array)\n",
        "\n",
        "  Example:\n",
        "    pars = default_pars_single()\n",
        "    r = simulate_single(pars)\n",
        "  \"\"\"\n",
        "\n",
        "  # Set parameters\n",
        "  tau, a, theta = pars['tau'], pars['a'], pars['theta']\n",
        "  w = pars['w']\n",
        "  I_ext = pars['I_ext']\n",
        "  r_init = pars['r_init']\n",
        "  dt, range_t = pars['dt'], pars['range_t']\n",
        "  Lt = range_t.size\n",
        "\n",
        "  # Initialize activity\n",
        "  r = np.zeros(Lt)\n",
        "  r[0] = r_init\n",
        "  I_ext = I_ext * np.ones(Lt)\n",
        "\n",
        "  # Update the E activity\n",
        "  for k in range(Lt - 1):\n",
        "      dr = dt / tau * (-r[k] + F(w * r[k] + I_ext[k], a, theta))\n",
        "      r[k+1] = r[k] + dr\n",
        "\n",
        "  return r\n",
        "\n",
        "help(simulate_single)"
      ],
      "execution_count": 8,
      "outputs": [
        {
          "output_type": "stream",
          "text": [
            "Help on function simulate_single in module __main__:\n",
            "\n",
            "simulate_single(pars)\n",
            "    Simulate an excitatory population of neurons\n",
            "    \n",
            "    Args:\n",
            "      pars   : Parameter dictionary\n",
            "    \n",
            "    Returns:\n",
            "      rE     : Activity of excitatory population (array)\n",
            "    \n",
            "    Example:\n",
            "      pars = default_pars_single()\n",
            "      r = simulate_single(pars)\n",
            "\n"
          ],
          "name": "stdout"
        }
      ]
    },
    {
      "cell_type": "markdown",
      "metadata": {
        "execution": {},
        "id": "Jur1uQO1NglJ"
      },
      "source": [
        "### Interactive Demo 1.3: Parameter Exploration of single population dynamics\n",
        "\n",
        "Explore these dynamics of the population activity in this interactive demo.\n",
        "\n",
        "1.  How does $r_{\\text{sim}}(t)$ change with different $I_{\\text{ext}}$ values? \n",
        "2.  How does it change with different $\\tau$ values? \n",
        "\n",
        "\n",
        "Note that, $r_{\\rm ana}(t)$ denotes the analytical solution - you will learn how this is computed in the next section."
      ]
    },
    {
      "cell_type": "code",
      "metadata": {
        "cellView": "form",
        "execution": {},
        "id": "JF8jORm8NglK",
        "outputId": "60de41e0-34cc-4a5f-a8d9-f7f39f21eba5",
        "colab": {
          "base_uri": "https://localhost:8080/",
          "height": 348,
          "referenced_widgets": [
            "27597105df33485fb37d37f034c676ab",
            "f14800e31a494f9b97e213db0dd04773",
            "2eb5c8fac64145edb5e698ba2fc16bde",
            "3fe1dd72e1b342058e5e0ce70da0ec48",
            "c00564f7a7af4daabae962576c876829",
            "89268de1c3844f6b928719be10a89993",
            "fd4dfd4dce254169b6d9fea604dd4aa2",
            "40c53ec542a0499887ddab5fd695e22c",
            "74f6bf357ed14668870753f24f84147b",
            "8f36201fdaf747fcbaa98e1e43ad367b"
          ]
        }
      },
      "source": [
        "# @title\n",
        "\n",
        "# @markdown Make sure you execute this cell to enable the widget!\n",
        "\n",
        "# get default parameters\n",
        "pars = default_pars_single(T=20.)\n",
        "\n",
        "\n",
        "def Myplot_E_diffI_difftau(I_ext, tau):\n",
        "  # set external input and time constant\n",
        "  pars['I_ext'] = I_ext\n",
        "  pars['tau'] = tau\n",
        "\n",
        "  # simulation\n",
        "  r = simulate_single(pars)\n",
        "\n",
        "  # Analytical Solution\n",
        "  r_ana = (pars['r_init']\n",
        "           + (F(I_ext, pars['a'], pars['theta'])\n",
        "           - pars['r_init']) * (1. - np.exp(-pars['range_t'] / pars['tau'])))\n",
        "\n",
        "  # plot\n",
        "  plt.figure()\n",
        "  plt.plot(pars['range_t'], r, 'b', label=r'$r_{\\mathrm{sim}}$(t)', alpha=0.5,\n",
        "           zorder=1)\n",
        "  plt.plot(pars['range_t'], r_ana, 'b--', lw=5, dashes=(2, 2),\n",
        "           label=r'$r_{\\mathrm{ana}}$(t)', zorder=2)\n",
        "  plt.plot(pars['range_t'],\n",
        "           F(I_ext, pars['a'], pars['theta']) * np.ones(pars['range_t'].size),\n",
        "           'k--', label=r'$F(I_{\\mathrm{ext}})$')\n",
        "  plt.xlabel('t (ms)', fontsize=16.)\n",
        "  plt.ylabel('Activity r(t)', fontsize=16.)\n",
        "  plt.legend(loc='best', fontsize=14.)\n",
        "  plt.show()\n",
        "\n",
        "\n",
        "_ = widgets.interact(Myplot_E_diffI_difftau, I_ext=(0.0, 10., 1.),\n",
        "                     tau=(1., 5., 0.2))"
      ],
      "execution_count": 9,
      "outputs": [
        {
          "output_type": "display_data",
          "data": {
            "application/vnd.jupyter.widget-view+json": {
              "model_id": "27597105df33485fb37d37f034c676ab",
              "version_minor": 0,
              "version_major": 2
            },
            "text/plain": [
              "interactive(children=(FloatSlider(value=5.0, description='I_ext', max=10.0, step=1.0), FloatSlider(value=3.0, …"
            ]
          },
          "metadata": {
            "tags": []
          }
        }
      ]
    },
    {
      "cell_type": "code",
      "metadata": {
        "execution": {},
        "id": "roJrl8DgNglK"
      },
      "source": [
        "# to_remove explanation\n",
        "\n",
        "\"\"\"\n",
        "\n",
        "1) Weak inputs to the neurons eventually result in the activity converging to zero.\n",
        " Strong inputs to the neurons eventually result in the activity converging to max value\n",
        "\n",
        "2) The time constant tau, does not affect the final response reached but it determines\n",
        "the time the neurons take to reach to their fixed point.\n",
        "\"\"\";"
      ],
      "execution_count": null,
      "outputs": []
    },
    {
      "cell_type": "markdown",
      "metadata": {
        "execution": {},
        "id": "4RAPc7fLNglK"
      },
      "source": [
        "## Think! 1.3: Finite activities\n",
        "\n",
        "Above, we have numerically solved a system driven by a positive input. Yet, $r_E(t)$ either decays to zero or reaches a fixed non-zero value.\n",
        "\n",
        "1. Why doesn't the solution of the system \"explode\" in a finite time? In other words, what guarantees that $r_E$(t) stays finite? \n",
        "2. Which parameter would you change in order to increase the maximum value of the response? "
      ]
    },
    {
      "cell_type": "code",
      "metadata": {
        "execution": {},
        "id": "HcjnvUoNNglK"
      },
      "source": [
        "# to_remove explanation\n",
        "\n",
        "\"\"\"\n",
        "\n",
        "1) As the F-I curve is bounded between zero and one, the system doesn't explode.\n",
        "The f-curve guarantees this property\n",
        "\n",
        "2) One way to increase the maximum response is to change the f-I curve. For\n",
        "example, the ReLU is an unbounded function, and thus will increase the overall maximal\n",
        "response of the network.\n",
        "\n",
        "\"\"\";"
      ],
      "execution_count": null,
      "outputs": []
    },
    {
      "cell_type": "markdown",
      "metadata": {
        "execution": {},
        "id": "fjrQURRINglK"
      },
      "source": [
        "---\n",
        "# Section 2: Fixed points of the single population system\n",
        "\n",
        "*Estimated timing to here from start of tutorial: 45 min*\n"
      ]
    },
    {
      "cell_type": "markdown",
      "metadata": {
        "execution": {},
        "id": "smQHEugBNglL"
      },
      "source": [
        "## Section 2.1: Finding fixed points"
      ]
    },
    {
      "cell_type": "code",
      "metadata": {
        "cellView": "form",
        "execution": {},
        "id": "IT86O0hKNglL",
        "outputId": "9a2f75c0-0667-49ff-a92b-7861680ea04b",
        "colab": {
          "base_uri": "https://localhost:8080/",
          "height": 581,
          "referenced_widgets": [
            "739fe6fccf59411880136d36bb3f5a18",
            "de332d61073f4331b49e49c20b3c7114",
            "e3e91d3861ce4b269338bfbf22d7aaf7",
            "58e68c5957474b859e1a1f64db07b91f",
            "70ee7f079ecb4a90ae4e5dd24bb50c0e",
            "7de54405d8fb4772be8a834aa6e58935"
          ]
        }
      },
      "source": [
        "# @title Video 2: Fixed point\n",
        "from ipywidgets import widgets\n",
        "\n",
        "out2 = widgets.Output()\n",
        "with out2:\n",
        "  from IPython.display import IFrame\n",
        "  class BiliVideo(IFrame):\n",
        "      def __init__(self, id, page=1, width=400, height=300, **kwargs):\n",
        "          self.id=id\n",
        "          src = 'https://player.bilibili.com/player.html?bvid={0}&page={1}'.format(id, page)\n",
        "          super(BiliVideo, self).__init__(src, width, height, **kwargs)\n",
        "\n",
        "  video = BiliVideo(id=\"BV1v54y1v7Gr\", width=854, height=480, fs=1)\n",
        "  print('Video available at https://www.bilibili.com/video/{0}'.format(video.id))\n",
        "  display(video)\n",
        "\n",
        "out1 = widgets.Output()\n",
        "with out1:\n",
        "  from IPython.display import YouTubeVideo\n",
        "  video = YouTubeVideo(id=\"Ox3ELd1UFyo\", width=854, height=480, fs=1, rel=0)\n",
        "  print('Video available at https://youtube.com/watch?v=' + video.id)\n",
        "  display(video)\n",
        "\n",
        "out = widgets.Tab([out1, out2])\n",
        "out.set_title(0, 'Youtube')\n",
        "out.set_title(1, 'Bilibili')\n",
        "\n",
        "display(out)"
      ],
      "execution_count": 10,
      "outputs": [
        {
          "output_type": "display_data",
          "data": {
            "application/vnd.jupyter.widget-view+json": {
              "model_id": "739fe6fccf59411880136d36bb3f5a18",
              "version_minor": 0,
              "version_major": 2
            },
            "text/plain": [
              "Tab(children=(Output(), Output()), _titles={'0': 'Youtube', '1': 'Bilibili'})"
            ]
          },
          "metadata": {
            "tags": []
          }
        }
      ]
    },
    {
      "cell_type": "markdown",
      "metadata": {
        "execution": {},
        "id": "VwGndmX6NglL"
      },
      "source": [
        "This video introduces recurrent networks and how to derive their fixed points. It also introduces vector fields and phase planes in one dimension.\n",
        "\n",
        "<details>\n",
        "<summary> <font color='blue'>Click here for text recap of video </font></summary>\n",
        "\n",
        "We can now extend our feed-forward network to a recurrent network, governed by the equation:\n",
        "\n",
        "\\begin{align}\n",
        "\\tau \\frac{dr}{dt} &= -r + F(w\\cdot r + I_{\\text{ext}})  \\quad\\qquad (3)\n",
        "\\end{align}\n",
        " where as before, $r(t)$ represents the average firing rate of the excitatory population at time $t$, $\\tau$ controls the timescale of the evolution of the average firing rate, $I_{\\text{ext}}$ represents the external input, and the transfer function $F(\\cdot)$ (which can be related to f-I curve of individual neurons described in the next sections) represents the population activation function in response to all received inputs. Now we also have $w$ which denotes the strength (synaptic weight) of the recurrent input to the population.\n",
        "\n",
        "As you varied the two parameters in the last Interactive Demo, you noticed that, while at first the system output quickly changes, with time, it reaches its maximum/minimum value and does not change anymore. The value eventually reached by the system is called the **steady state** of the system, or the **fixed point**. Essentially, in the steady states the derivative with respect to time of the activity ($r$) is zero, i.e. $\\displaystyle \\frac{dr}{dt}=0$. \n",
        "\n",
        "We can find that the steady state of the Equation. (1) by setting $\\displaystyle{\\frac{dr}{dt}=0}$ and solve for $r$:\n",
        "\n",
        "$$-r_{\\text{steady}} + F(w\\cdot r_{\\text{steady}} + I_{\\text{ext}};a,\\theta) = 0, \\qquad (4)$$\n",
        "\n",
        "When it exists, the solution of Equation. (4) defines a **fixed point** of the dynamical system in Equation (3). Note that if $F(x)$ is nonlinear, it is not always possible to find an analytical solution, but the solution can be found via numerical simulations, as we will do later.\n",
        "\n",
        "From the Interactive Demo, one could also notice that the value of $\\tau$ influences how quickly the activity will converge to the steady state from its initial value. \n",
        "\n",
        "In the specific case of $w=0$, we can also analytically compute  the solution of Equation (1) (i.e., the thick blue dashed line) and deduce the role of $\\tau$ in determining the convergence to the fixed point: \n",
        "\n",
        "$$\\displaystyle{r(t) = \\big{[}F(I_{\\text{ext}};a,\\theta) -r(t=0)\\big{]} (1-\\text{e}^{-\\frac{t}{\\tau}})} + r(t=0)$$ \\\\\n",
        "\n",
        "We can now numerically calculate the fixed point with a root finding algorithm."
      ]
    },
    {
      "cell_type": "markdown",
      "metadata": {
        "execution": {},
        "id": "FIp9gCUWNglM"
      },
      "source": [
        "### Coding Exercise 2.1.1: Visualization of the fixed points\n",
        "\n",
        "When it is not possible to find the solution for Equation (3) analytically, a graphical approach can be taken. To that end, it is useful to plot $\\displaystyle{\\frac{dr}{dt}}$ as a function of $r$. The values of $r$ for which the plotted function crosses zero on the y axis correspond to fixed points. \n",
        "\n",
        "Here, let us, for example, set $w=5.0$ and $I^{\\text{ext}}=0.5$. From Equation (3), you can obtain\n",
        "\n",
        "$$\\frac{dr}{dt} = [-r + F(w\\cdot r + I^{\\text{ext}})]\\,/\\,\\tau $$\n",
        "\n",
        "Then, plot the $dr/dt$ as a function of $r$, and check for the presence of fixed points. "
      ]
    },
    {
      "cell_type": "code",
      "metadata": {
        "execution": {},
        "id": "UVLUbHjNNglM",
        "outputId": "a05aaaaf-820c-4d60-84eb-7e5b3374e0d3",
        "colab": {
          "base_uri": "https://localhost:8080/",
          "height": 284
        }
      },
      "source": [
        "def compute_drdt(r, I_ext, w, a, theta, tau, **other_pars):\n",
        "  \"\"\"Given parameters, compute dr/dt as a function of r.\n",
        "\n",
        "  Args:\n",
        "    r (1D array) : Average firing rate of the excitatory population\n",
        "    I_ext, w, a, theta, tau (numbers): Simulation parameters to use\n",
        "    other_pars : Other simulation parameters are unused by this function\n",
        "\n",
        "  Returns\n",
        "    drdt function for each value of r\n",
        "  \"\"\"\n",
        "  #########################################################################\n",
        "  # TODO compute drdt and disable the error\n",
        "  #raise NotImplementedError(\"Finish the compute_drdt function\")\n",
        "  #########################################################################\n",
        "\n",
        "  # Calculate drdt\n",
        "  drdt = (-r + F(w * r + I_ext, a, theta)) / tau\n",
        "\n",
        "  return drdt\n",
        "\n",
        "\n",
        "# Define a vector of r values and the simulation parameters\n",
        "r = np.linspace(0, 1, 1000)\n",
        "pars = default_pars_single(I_ext=0.5, w=5)\n",
        "\n",
        "# Compute dr/dt\n",
        "drdt = compute_drdt(r, **pars)\n",
        "\n",
        "# Visualize\n",
        "plot_dr_r(r, drdt)"
      ],
      "execution_count": 14,
      "outputs": [
        {
          "output_type": "display_data",
          "data": {
            "image/png": "[encoded data removed]",
            "text/plain": [
              "<Figure size 432x288 with 1 Axes>"
            ]
          },
          "metadata": {
            "tags": [],
            "needs_background": "light"
          }
        }
      ]
    },
    {
      "cell_type": "code",
      "metadata": {
        "execution": {},
        "id": "MmMOvJxPNglM",
        "outputId": "8871d0aa-5588-4c6f-a5b7-8ae9e046acff",
        "colab": {
          "base_uri": "https://localhost:8080/",
          "height": 327
        }
      },
      "source": [
        "# to_remove solution\n",
        "\n",
        "def compute_drdt(r, I_ext, w, a, theta, tau, **other_pars):\n",
        "  \"\"\"Given parameters, compute dr/dt as a function of r.\n",
        "\n",
        "  Args:\n",
        "    r (1D array) : Average firing rate of the excitatory population\n",
        "    I_ext, w, a, theta, tau (numbers): Simulation parameters to use\n",
        "    other_pars : Other simulation parameters are unused by this function\n",
        "\n",
        "  Returns\n",
        "    drdt function for each value of r\n",
        "  \"\"\"\n",
        "  # Calculate drdt\n",
        "  drdt = (-r + F(w * r + I_ext, a, theta)) / tau\n",
        "\n",
        "  return drdt\n",
        "\n",
        "\n",
        "# Define a vector of r values and the simulation parameters\n",
        "r = np.linspace(0, 1, 1000)\n",
        "pars = default_pars_single(I_ext=0.5, w=5)\n",
        "\n",
        "# Compute dr/dt\n",
        "drdt = compute_drdt(r, **pars)\n",
        "\n",
        "# Visualize\n",
        "with plt.xkcd():\n",
        "  plot_dr_r(r, drdt)"
      ],
      "execution_count": 15,
      "outputs": [
        {
          "output_type": "stream",
          "text": [
            "/usr/local/lib/python3.7/dist-packages/matplotlib/backends/backend_agg.py:214: RuntimeWarning: Glyph 8722 missing from current font.\n",
            "  font.set_text(s, 0.0, flags=flags)\n"
          ],
          "name": "stderr"
        },
        {
          "output_type": "display_data",
          "data": {
            "image/png": "[encoded data removed]",
            "text/plain": [
              "<Figure size 432x288 with 1 Axes>"
            ]
          },
          "metadata": {
            "tags": []
          }
        }
      ]
    },
    {
      "cell_type": "markdown",
      "metadata": {
        "execution": {},
        "id": "1bqJQi4rNglM"
      },
      "source": [
        "### Coding Exercise 2.1.2: Numerical calculution of fixed points\n",
        "\n",
        "We will now find the fixed points numerically. To do so, we need to specify initial values ($r_{\\text{guess}}$) for the root-finding algorithm to start from. From the line $\\displaystyle{\\frac{dr}{dt}}$ plotted above in the last exercise, initial values can be chosen as a set of values close to where the line crosses zero on the y axis (real fixed point).\n",
        "\n",
        "The next cell defines three helper functions that we will use:\n",
        "\n",
        "- `my_fp_single(r_guess, **pars)` uses a root-finding algorithm to locate a fixed point near a given initial value\n",
        "- `check_fp_single(x_fp, **pars)` verifies that the values of $r_{\\rm fp}$ for which $\\displaystyle{\\frac{dr}{dt}} = 0$ are the true fixed points\n",
        "- `my_fp_finder(r_guess_vector, **pars)` accepts an array of initial values and finds the same number of fixed points, using the above two functions"
      ]
    },
    {
      "cell_type": "code",
      "metadata": {
        "cellView": "form",
        "execution": {},
        "id": "_gbkQuwDNglM",
        "outputId": "d78b197a-cf30-4515-d65b-46decf0b78bf",
        "colab": {
          "base_uri": "https://localhost:8080/"
        }
      },
      "source": [
        "# @markdown *Execute this cell to enable the fixed point functions*\n",
        "\n",
        "def my_fp_single(r_guess, a, theta, w, I_ext, **other_pars):\n",
        "  \"\"\"\n",
        "  Calculate the fixed point through drE/dt=0\n",
        "\n",
        "  Args:\n",
        "    r_guess  : Initial value used for scipy.optimize function\n",
        "    a, theta, w, I_ext : simulation parameters\n",
        "\n",
        "  Returns:\n",
        "    x_fp    : value of fixed point\n",
        "  \"\"\"\n",
        "  # define the right hand of E dynamics\n",
        "  def my_WCr(x):\n",
        "    r = x\n",
        "    drdt = (-r + F(w * r + I_ext, a, theta))\n",
        "    y = np.array(drdt)\n",
        "\n",
        "    return y\n",
        "\n",
        "  x0 = np.array(r_guess)\n",
        "  x_fp = opt.root(my_WCr, x0).x.item()\n",
        "\n",
        "  return x_fp\n",
        "\n",
        "\n",
        "def check_fp_single(x_fp, a, theta, w, I_ext, mytol=1e-4, **other_pars):\n",
        "  \"\"\"\n",
        "   Verify |dr/dt| < mytol\n",
        "\n",
        "  Args:\n",
        "    fp      : value of fixed point\n",
        "    a, theta, w, I_ext: simulation parameters\n",
        "    mytol   : tolerance, default as 10^{-4}\n",
        "\n",
        "  Returns :\n",
        "    Whether it is a correct fixed point: True/False\n",
        "  \"\"\"\n",
        "  # calculate Equation(3)\n",
        "  y = x_fp - F(w * x_fp + I_ext, a, theta)\n",
        "\n",
        "  # Here we set tolerance as 10^{-4}\n",
        "  return np.abs(y) < mytol\n",
        "\n",
        "\n",
        "def my_fp_finder(pars, r_guess_vector, mytol=1e-4):\n",
        "  \"\"\"\n",
        "  Calculate the fixed point(s) through drE/dt=0\n",
        "\n",
        "  Args:\n",
        "    pars    : Parameter dictionary\n",
        "    r_guess_vector  : Initial values used for scipy.optimize function\n",
        "    mytol   : tolerance for checking fixed point, default as 10^{-4}\n",
        "\n",
        "  Returns:\n",
        "    x_fps   : values of fixed points\n",
        "\n",
        "  \"\"\"\n",
        "  x_fps = []\n",
        "  correct_fps = []\n",
        "  for r_guess in r_guess_vector:\n",
        "    x_fp = my_fp_single(r_guess, **pars)\n",
        "    if check_fp_single(x_fp, **pars, mytol=mytol):\n",
        "      x_fps.append(x_fp)\n",
        "\n",
        "  return x_fps\n",
        "\n",
        "help(my_fp_finder)"
      ],
      "execution_count": 16,
      "outputs": [
        {
          "output_type": "stream",
          "text": [
            "Help on function my_fp_finder in module __main__:\n",
            "\n",
            "my_fp_finder(pars, r_guess_vector, mytol=0.0001)\n",
            "    Calculate the fixed point(s) through drE/dt=0\n",
            "    \n",
            "    Args:\n",
            "      pars    : Parameter dictionary\n",
            "      r_guess_vector  : Initial values used for scipy.optimize function\n",
            "      mytol   : tolerance for checking fixed point, default as 10^{-4}\n",
            "    \n",
            "    Returns:\n",
            "      x_fps   : values of fixed points\n",
            "\n"
          ],
          "name": "stdout"
        }
      ]
    },
    {
      "cell_type": "code",
      "metadata": {
        "execution": {},
        "id": "Yb57vBF8NglN",
        "outputId": "10d0a2e3-955b-465f-9a23-fc46f68bd025",
        "colab": {
          "base_uri": "https://localhost:8080/",
          "height": 284
        }
      },
      "source": [
        "# Set parameters\n",
        "r = np.linspace(0, 1, 1000)\n",
        "pars = default_pars_single(I_ext=0.5, w=5)\n",
        "\n",
        "# Compute dr/dt\n",
        "drdt = compute_drdt(r, **pars)\n",
        "\n",
        "#############################################################################\n",
        "# TODO for students:\n",
        "# Define initial values close to the intersections of drdt and y=0\n",
        "# (How many initial values? Hint: How many times do the two lines intersect?)\n",
        "# Calculate the fixed point with these initial values and plot them\n",
        "#raise NotImplementedError('student_exercise: find fixed points numerically')\n",
        "#############################################################################\n",
        "\n",
        "# Initial guesses for fixed points\n",
        "r_guess_vector = [0, 0.4, 0.9]\n",
        "\n",
        "# Find fixed point numerically\n",
        "x_fps = my_fp_finder(pars, r_guess_vector)\n",
        "\n",
        "# Visualize\n",
        "plot_dr_r(r, drdt, x_fps)"
      ],
      "execution_count": 18,
      "outputs": [
        {
          "output_type": "display_data",
          "data": {
            "image/png": "[encoded data removed]",
            "text/plain": [
              "<Figure size 432x288 with 1 Axes>"
            ]
          },
          "metadata": {
            "tags": [],
            "needs_background": "light"
          }
        }
      ]
    },
    {
      "cell_type": "code",
      "metadata": {
        "execution": {},
        "id": "qzNcG0AoNglN",
        "outputId": "bf451304-98df-4617-fecf-12060972581f",
        "colab": {
          "base_uri": "https://localhost:8080/",
          "height": 327
        }
      },
      "source": [
        "# to_remove solution\n",
        "\n",
        "# Set parameters\n",
        "r = np.linspace(0, 1, 1000)\n",
        "pars = default_pars_single(I_ext=0.5, w=5)\n",
        "\n",
        "# Compute dr/dt\n",
        "drdt = compute_drdt(r, **pars)\n",
        "\n",
        "# Initial guesses for fixed points\n",
        "r_guess_vector = [0, .4, .9]\n",
        "\n",
        "# Find fixed point numerically\n",
        "x_fps = my_fp_finder(pars, r_guess_vector)\n",
        "\n",
        "# Visualize\n",
        "with plt.xkcd():\n",
        "  plot_dr_r(r, drdt, x_fps)"
      ],
      "execution_count": 19,
      "outputs": [
        {
          "output_type": "stream",
          "text": [
            "/usr/local/lib/python3.7/dist-packages/matplotlib/backends/backend_agg.py:214: RuntimeWarning: Glyph 8722 missing from current font.\n",
            "  font.set_text(s, 0.0, flags=flags)\n"
          ],
          "name": "stderr"
        },
        {
          "output_type": "display_data",
          "data": {
            "image/png": "[encoded data removed]",
            "text/plain": [
              "<Figure size 432x288 with 1 Axes>"
            ]
          },
          "metadata": {
            "tags": []
          }
        }
      ]
    },
    {
      "cell_type": "markdown",
      "metadata": {
        "execution": {},
        "id": "feV90fWjNglN"
      },
      "source": [
        "### Interactive Demo 2.1: fixed points as a function of recurrent and external inputs.\n",
        "\n",
        "You can now explore how the previous plot changes when the recurrent coupling $w$ and the external input $I_{\\text{ext}}$ take different values. How does the number of fixed points change?"
      ]
    },
    {
      "cell_type": "code",
      "metadata": {
        "execution": {},
        "cellView": "form",
        "id": "u4CUQvaiNglN",
        "outputId": "0bd34b76-460d-43b2-e621-c5abc0eb6581",
        "colab": {
          "base_uri": "https://localhost:8080/",
          "height": 348,
          "referenced_widgets": [
            "39560eb7f56d4184924692bfe224f300",
            "63f42d0f30214b549c95cea2e5b4e29e",
            "a2e7a520472140358c9dabc9f651e492",
            "edc626e171694329af8cc2ff68f472f9",
            "e6be599b3b1441c8827d6fc76984ef3f",
            "931964b6ce8a4bb483d129e71772f43f",
            "7665cc0359d142bb8712779175b5ebde",
            "c70da5512180417f8eb892e6e634f41c",
            "7bc105f610ef4cde885b01c170a51fd4",
            "5d80bde1220947328bba8de005efe512"
          ]
        }
      },
      "source": [
        "# @title\n",
        "\n",
        "# @markdown Make sure you execute this cell to enable the widget!\n",
        "\n",
        "\n",
        "def plot_intersection_single(w, I_ext):\n",
        "  # set your parameters\n",
        "  pars = default_pars_single(w=w, I_ext=I_ext)\n",
        "\n",
        "  # find fixed points\n",
        "  r_init_vector = [0, .4, .9]\n",
        "  x_fps = my_fp_finder(pars, r_init_vector)\n",
        "\n",
        "  # plot\n",
        "  r = np.linspace(0, 1., 1000)\n",
        "  drdt = (-r + F(w * r + I_ext, pars['a'], pars['theta'])) / pars['tau']\n",
        "\n",
        "  plot_dr_r(r, drdt, x_fps)\n",
        "\n",
        "_ = widgets.interact(plot_intersection_single, w=(1, 7, 0.2),\n",
        "                     I_ext=(0, 3, 0.1))"
      ],
      "execution_count": 26,
      "outputs": [
        {
          "output_type": "display_data",
          "data": {
            "application/vnd.jupyter.widget-view+json": {
              "model_id": "39560eb7f56d4184924692bfe224f300",
              "version_minor": 0,
              "version_major": 2
            },
            "text/plain": [
              "interactive(children=(FloatSlider(value=3.0, description='w', max=7.0, min=-1.0, step=0.2), FloatSlider(value=…"
            ]
          },
          "metadata": {
            "tags": []
          }
        }
      ]
    },
    {
      "cell_type": "code",
      "metadata": {
        "execution": {},
        "id": "jaykU54xNglO"
      },
      "source": [
        "# to_remove explanation\n",
        "\n",
        "\"\"\"\n",
        "\n",
        "The fixed points of the single excitatory neuron population are determined by both\n",
        "recurrent connections w and external input I_ext. In a previous interactive demo\n",
        "we saw how the system showed two different steady-states when w = 0. But when w\n",
        "doe not equal 0, for some range of w the system shows three fixed points and the\n",
        "steady state depends on the initial conditions (i.e.\n",
        "r at time zero.).\n",
        "\n",
        "\"\"\";"
      ],
      "execution_count": null,
      "outputs": []
    },
    {
      "cell_type": "markdown",
      "metadata": {
        "execution": {},
        "id": "LgWCN7O1NglO"
      },
      "source": [
        "## Section 2.2: Relationship between trajectories & fixed points\n",
        "\n",
        "Let's examine the relationship between the population activity over time and the fixed points.\n",
        "\n",
        "Here, let us first set $w=5.0$ and $I_{\\text{ext}}=0.5$, and investigate the dynamics of $r(t)$ starting with different initial values $r(0) \\equiv r_{\\text{init}}$. "
      ]
    },
    {
      "cell_type": "code",
      "metadata": {
        "cellView": "form",
        "execution": {},
        "id": "CDN5ruqMNglO",
        "outputId": "64ba7156-7a64-484d-e8d1-c1f443bb02c5",
        "colab": {
          "base_uri": "https://localhost:8080/",
          "height": 284
        }
      },
      "source": [
        "# @markdown Execute to visualize dr/dt\n",
        "\n",
        "def plot_intersection_single(w, I_ext):\n",
        "  # set your parameters\n",
        "  pars = default_pars_single(w=w, I_ext=I_ext)\n",
        "\n",
        "  # find fixed points\n",
        "  r_init_vector = [0, .4, .9]\n",
        "  x_fps = my_fp_finder(pars, r_init_vector)\n",
        "\n",
        "  # plot\n",
        "  r = np.linspace(0, 1., 1000)\n",
        "  drdt = (-r + F(w * r + I_ext, pars['a'], pars['theta'])) / pars['tau']\n",
        "\n",
        "  plot_dr_r(r, drdt, x_fps)\n",
        "\n",
        "plot_intersection_single(w = 5.0, I_ext = 0.5)"
      ],
      "execution_count": 21,
      "outputs": [
        {
          "output_type": "display_data",
          "data": {
            "image/png": "[encoded data removed]",
            "text/plain": [
              "<Figure size 432x288 with 1 Axes>"
            ]
          },
          "metadata": {
            "tags": [],
            "needs_background": "light"
          }
        }
      ]
    },
    {
      "cell_type": "markdown",
      "metadata": {
        "execution": {},
        "id": "KdG7WUVINglO"
      },
      "source": [
        "### Interactive Demo 2.2: dynamics as a function of the initial value\n",
        "\n",
        "Let's now set $r_{\\rm init}$ to a value of your choice in this demo. How does the solution change? What do you observe? How does that relate to the previous plot of $\\frac{dr}{dt}$?"
      ]
    },
    {
      "cell_type": "code",
      "metadata": {
        "cellView": "form",
        "execution": {},
        "id": "KrKrHQXVNglO",
        "outputId": "538ab387-f727-4ec1-d985-9f9d80ea3c74",
        "colab": {
          "base_uri": "https://localhost:8080/",
          "height": 320,
          "referenced_widgets": [
            "fa48dc38038448f1bff2719a3374dc2b",
            "ce567168cded4169837a95c1dcae3c58",
            "9ff3d1378b4c4a61bd843dff349a8c7d",
            "63de3f117ad8486f98864e9257ad7f8f",
            "1a61a956c3a349419869f2eb692df44b",
            "67cd10d7a9df4456ba92b65b186e361f",
            "64de4b0b82fa437ebfb9474ac354a1a7"
          ]
        }
      },
      "source": [
        "# @markdown Make sure you execute this cell to enable the widget!\n",
        "\n",
        "pars = default_pars_single(w=5.0, I_ext=0.5)\n",
        "\n",
        "def plot_single_diffEinit(r_init):\n",
        "  pars['r_init'] = r_init\n",
        "  r = simulate_single(pars)\n",
        "\n",
        "  plt.figure()\n",
        "  plt.plot(pars['range_t'], r, 'b', zorder=1)\n",
        "  plt.plot(0, r[0], 'bo', alpha=0.7, zorder=2)\n",
        "  plt.xlabel('t (ms)', fontsize=16)\n",
        "  plt.ylabel(r'$r(t)$', fontsize=16)\n",
        "  plt.ylim(0, 1.0)\n",
        "  plt.show()\n",
        "\n",
        "\n",
        "_ = widgets.interact(plot_single_diffEinit, r_init=(0, 1, 0.02))"
      ],
      "execution_count": 22,
      "outputs": [
        {
          "output_type": "display_data",
          "data": {
            "application/vnd.jupyter.widget-view+json": {
              "model_id": "fa48dc38038448f1bff2719a3374dc2b",
              "version_minor": 0,
              "version_major": 2
            },
            "text/plain": [
              "interactive(children=(FloatSlider(value=0.0, description='r_init', max=1.0, step=0.02), Output()), _dom_classe…"
            ]
          },
          "metadata": {
            "tags": []
          }
        }
      ]
    },
    {
      "cell_type": "code",
      "metadata": {
        "execution": {},
        "id": "YP0dUGdnNglO"
      },
      "source": [
        "# to_remove explanation\n",
        "\"\"\"\n",
        "\n",
        "There are three fixed points of the system for these values of\n",
        "w and I_ext. Choose the initial value in this demo and see in which direction\n",
        "the system output moves. When r_init is in the vicinity of the leftmost fixed points\n",
        "it moves towards the left most fixed point. When r_init is in the vicinity of the\n",
        "rightmost fixed points it moves towards the rightmost fixed point.\n",
        "\"\"\";"
      ],
      "execution_count": null,
      "outputs": []
    },
    {
      "cell_type": "markdown",
      "metadata": {
        "execution": {},
        "id": "MCtAU1DVNglP"
      },
      "source": [
        "We will plot the trajectories of $r(t)$ with $r_{\\text{init}} = 0.0, 0.1, 0.2,..., 0.9$."
      ]
    },
    {
      "cell_type": "code",
      "metadata": {
        "cellView": "form",
        "execution": {},
        "id": "5oi_T3XLNglP",
        "outputId": "425160bf-da8a-4af2-a18d-ea44dba7e6ff",
        "colab": {
          "base_uri": "https://localhost:8080/",
          "height": 350
        }
      },
      "source": [
        "# @markdown Execute this cell to see the trajectories!\n",
        "\n",
        "pars = default_pars_single()\n",
        "pars['w'] = 5.0\n",
        "pars['I_ext'] = 0.5\n",
        "\n",
        "plt.figure(figsize=(8, 5))\n",
        "for ie in range(10):\n",
        "  pars['r_init'] = 0.1 * ie  # set the initial value\n",
        "  r = simulate_single(pars)  # run the simulation\n",
        "\n",
        "  # plot the activity with given initial\n",
        "  plt.plot(pars['range_t'], r, 'b', alpha=0.1 + 0.1 * ie,\n",
        "           label=r'r$_{\\mathrm{init}}$=%.1f' % (0.1 * ie))\n",
        "\n",
        "plt.xlabel('t (ms)')\n",
        "plt.title('Two steady states?')\n",
        "plt.ylabel(r'$r$(t)')\n",
        "plt.legend(loc=[1.01, -0.06], fontsize=14)\n",
        "plt.show()"
      ],
      "execution_count": 23,
      "outputs": [
        {
          "output_type": "display_data",
          "data": {
            "image/png": "[encoded data removed]",
            "text/plain": [
              "<Figure size 576x360 with 1 Axes>"
            ]
          },
          "metadata": {
            "tags": [],
            "needs_background": "light"
          }
        }
      ]
    },
    {
      "cell_type": "markdown",
      "metadata": {
        "execution": {},
        "id": "7vVXYDbYNglP"
      },
      "source": [
        "We have three fixed points but only two steady states showing up - what's happening? \n",
        "\n",
        "It turns out that the stability of the fixed points matters. If a fixed point is stable, a trajectory starting near that fixed point will stay close to that fixed point and converge to it (the steady state will equal the fixed point). If a fixed point is unstable, any trajectories starting close to it will diverge and go towards stable fixed points. In fact, the only way for a trajectory to reach a stable state at an unstable fixed point is if the initial value **exactly** equals the value of the fixed point.\n",
        "\n"
      ]
    },
    {
      "cell_type": "markdown",
      "metadata": {
        "execution": {},
        "id": "DQQGb9IQNglP"
      },
      "source": [
        "### Think! 2.2: Stable vs unstable fixed points\n",
        "\n",
        "Which of the fixed points for the model we've been examining in this section are stable vs unstable?"
      ]
    },
    {
      "cell_type": "code",
      "metadata": {
        "execution": {},
        "cellView": "form",
        "id": "CL17Y4BHNglP",
        "outputId": "36ebee7f-49a2-421b-c605-3fe1f280a8c0",
        "colab": {
          "base_uri": "https://localhost:8080/"
        }
      },
      "source": [
        "# @markdown Execute to print fixed point values\n",
        "\n",
        "# Initial guesses for fixed points\n",
        "r_guess_vector = [0, .4, .9]\n",
        "\n",
        "# Find fixed point numerically\n",
        "x_fps = my_fp_finder(pars, r_guess_vector)\n",
        "\n",
        "print(f'Our fixed points are {x_fps}')"
      ],
      "execution_count": 24,
      "outputs": [
        {
          "output_type": "stream",
          "text": [
            "Our fixed points are [0.04153669901331739, 0.4471192240898344, 0.8997171538560865]\n"
          ],
          "name": "stdout"
        }
      ]
    },
    {
      "cell_type": "code",
      "metadata": {
        "execution": {},
        "id": "RCldrPPGNglP"
      },
      "source": [
        "# to_remove explanation\n",
        "\n",
        "\"\"\"\n",
        "\n",
        "The trajectory is converging to either the first fixed point or the third so those\n",
        "ones are stable. The second fixed point is unstable as we do not see trajectories converging\n",
        "to it.\n",
        "\n",
        "\"\"\""
      ],
      "execution_count": null,
      "outputs": []
    },
    {
      "cell_type": "markdown",
      "metadata": {
        "execution": {},
        "id": "cXrcMvD-NglQ"
      },
      "source": [
        "We can simulate the trajectory if we start at the unstable fixed point: you can see that it remains at that fixed point (the red line below)."
      ]
    },
    {
      "cell_type": "code",
      "metadata": {
        "cellView": "form",
        "execution": {},
        "id": "y3D7xpTSNglQ",
        "outputId": "749076a8-01c2-4c39-a3ef-c6fa0914d358",
        "colab": {
          "base_uri": "https://localhost:8080/",
          "height": 350
        }
      },
      "source": [
        "# @markdown Execute to visualize trajectory starting at unstable fixed point\n",
        "pars = default_pars_single()\n",
        "pars['w'] = 5.0\n",
        "pars['I_ext'] = 0.5\n",
        "\n",
        "plt.figure(figsize=(8, 5))\n",
        "for ie in range(10):\n",
        "  pars['r_init'] = 0.1 * ie  # set the initial value\n",
        "  r = simulate_single(pars)  # run the simulation\n",
        "\n",
        "  # plot the activity with given initial\n",
        "  plt.plot(pars['range_t'], r, 'b', alpha=0.1 + 0.1 * ie,\n",
        "           label=r'r$_{\\mathrm{init}}$=%.1f' % (0.1 * ie))\n",
        "\n",
        "pars['r_init'] = x_fps[1]  # set the initial value\n",
        "r = simulate_single(pars)  # run the simulation\n",
        "\n",
        "# plot the activity with given initial\n",
        "plt.plot(pars['range_t'], r, 'r', alpha=0.1 + 0.1 * ie,\n",
        "          label=r'r$_{\\mathrm{init}}$=%.4f' % (x_fps[1]))\n",
        "\n",
        "plt.xlabel('t (ms)')\n",
        "plt.title('Two steady states?')\n",
        "plt.ylabel(r'$r$(t)')\n",
        "plt.legend(loc=[1.01, -0.06], fontsize=14)\n",
        "plt.show()"
      ],
      "execution_count": 25,
      "outputs": [
        {
          "output_type": "display_data",
          "data": {
            "image/png": "[encoded data removed]",
            "text/plain": [
              "<Figure size 576x360 with 1 Axes>"
            ]
          },
          "metadata": {
            "tags": [],
            "needs_background": "light"
          }
        }
      ]
    },
    {
      "cell_type": "markdown",
      "metadata": {
        "execution": {},
        "id": "oihESEQHNglQ"
      },
      "source": [
        "See Bonus Section 1 to cover how to determine the stability of fixed points in a quantitative way."
      ]
    },
    {
      "cell_type": "markdown",
      "metadata": {
        "execution": {},
        "id": "ShZ20LGGNglQ"
      },
      "source": [
        "## Think! 2: Inhibitory populations\n",
        "\n",
        "Throughout the tutorial, we have assumed $w> 0 $, i.e., we considered a single population of **excitatory** neurons. What do you think will be the behavior of a population of inhibitory neurons, i.e., where $w> 0$ is replaced by $w< 0$? "
      ]
    },
    {
      "cell_type": "code",
      "metadata": {
        "execution": {},
        "id": "cUyGOgALNglQ"
      },
      "source": [
        "# to_remove explanation\n",
        "\n",
        "\"\"\"\n",
        "\n",
        "You can check this by going back the interactive demo 2.1 and set the\n",
        "weight to w<0. You will notice that the system has only one fixed point and that\n",
        "is at zero value. For this particular dynamics, the system will eventually converge\n",
        "to zero. But try it out!\n",
        "\"\"\";"
      ],
      "execution_count": null,
      "outputs": []
    },
    {
      "cell_type": "markdown",
      "metadata": {
        "execution": {},
        "id": "7Yk4f5bHNglQ"
      },
      "source": [
        "---\n",
        "# Summary\n",
        "\n",
        "*Estimated timing of tutorial: 1 hour, 25 minutes*\n",
        "\n",
        "In this tutorial, we have investigated the dynamics of a rate-based single population of neurons.\n",
        "\n",
        "We learned about:\n",
        "- The effect of the input parameters and the time constant of the network on the dynamics of the population.\n",
        "- How to find the fixed point(s) of the system.\n",
        "\n",
        "We build on these concepts in the bonus material - check it out if you have time. You will learn:\n",
        "\n",
        "- How to determine the stability of a fixed point by linearizing the system.\n",
        "- How to add realistic inputs to our model."
      ]
    },
    {
      "cell_type": "markdown",
      "metadata": {
        "execution": {},
        "id": "iR-uZp8sNglR"
      },
      "source": [
        "---\n",
        "# Bonus"
      ]
    },
    {
      "cell_type": "markdown",
      "metadata": {
        "execution": {},
        "id": "8wvzc7KRNglR"
      },
      "source": [
        "---\n",
        "## Bonus Section 1: Stability analysis via linearization of the dynamics"
      ]
    },
    {
      "cell_type": "code",
      "metadata": {
        "cellView": "form",
        "execution": {},
        "id": "QghT9mzQNglR"
      },
      "source": [
        "# @title Video 3: Stability of fixed points\n",
        "from ipywidgets import widgets\n",
        "\n",
        "out2 = widgets.Output()\n",
        "with out2:\n",
        "  from IPython.display import IFrame\n",
        "  class BiliVideo(IFrame):\n",
        "      def __init__(self, id, page=1, width=400, height=300, **kwargs):\n",
        "          self.id=id\n",
        "          src = 'https://player.bilibili.com/player.html?bvid={0}&page={1}'.format(id, page)\n",
        "          super(BiliVideo, self).__init__(src, width, height, **kwargs)\n",
        "\n",
        "  video = BiliVideo(id=\"BV1oA411e7eg\", width=854, height=480, fs=1)\n",
        "  print('Video available at https://www.bilibili.com/video/{0}'.format(video.id))\n",
        "  display(video)\n",
        "\n",
        "out1 = widgets.Output()\n",
        "with out1:\n",
        "  from IPython.display import YouTubeVideo\n",
        "  video = YouTubeVideo(id=\"KKMlWWU83Jg\", width=854, height=480, fs=1, rel=0)\n",
        "  print('Video available at https://youtube.com/watch?v=' + video.id)\n",
        "  display(video)\n",
        "\n",
        "out = widgets.Tab([out1, out2])\n",
        "out.set_title(0, 'Youtube')\n",
        "out.set_title(1, 'Bilibili')\n",
        "\n",
        "display(out)"
      ],
      "execution_count": null,
      "outputs": []
    },
    {
      "cell_type": "markdown",
      "metadata": {
        "execution": {},
        "id": "gE_rUwItNglR"
      },
      "source": [
        "Here we will dive into the math of how to figure out the stability of a fixed point.\n",
        "\n",
        "\n",
        "Just like in our equation for the feedforward network, a generic linear system \n",
        "$$\\frac{dx}{dt} = \\lambda (x - b),$$ \n",
        "has a fixed point for $x=b$. The analytical solution of such a system can be found to be:\n",
        "$$x(t) = b + \\big{(} x(0) - b \\big{)} \\text{e}^{\\lambda t}.$$ \n",
        "Now consider a small perturbation of the activity around the fixed point: $x(0) = b+ \\epsilon$, where $|\\epsilon| \\ll 1$. Will the perturbation $\\epsilon(t)$ grow with time or will it decay to the fixed point? The evolution of the perturbation with time can be written, using the analytical solution for $x(t)$, as:\n",
        " $$\\epsilon (t) = x(t) - b = \\epsilon \\text{e}^{\\lambda t}$$\n",
        "\n",
        "- if $\\lambda < 0$, $\\epsilon(t)$ decays to zero, $x(t)$ will still converge to $b$ and the fixed point is \"**stable**\".\n",
        "\n",
        "- if $\\lambda > 0$, $\\epsilon(t)$ grows with time, $x(t)$ will leave the fixed point $b$ exponentially, and the fixed point is, therefore, \"**unstable**\" ."
      ]
    },
    {
      "cell_type": "markdown",
      "metadata": {
        "execution": {},
        "id": "S3Nuyzz2NglR"
      },
      "source": [
        "Similar to what we did in the linear system above, in order to determine the stability of a fixed point $r^{*}$ of the excitatory population dynamics, we perturb Equation (1) around $r^{*}$ by $\\epsilon$, i.e. $r = r^{*} + \\epsilon$. We can plug in Equation (1) and obtain the equation determining the time evolution of the perturbation $\\epsilon(t)$:\n",
        "\n",
        "\\begin{align}\n",
        "\\tau \\frac{d\\epsilon}{dt} \\approx -\\epsilon + w F'(w\\cdot r^{*} + I_{\\text{ext}};a,\\theta) \\epsilon \n",
        "\\end{align}\n",
        "\n",
        "where $F'(\\cdot)$ is the derivative of the transfer function $F(\\cdot)$. We can rewrite the above equation as:\n",
        "\n",
        "\\begin{align}\n",
        "\\frac{d\\epsilon}{dt} \\approx \\frac{\\epsilon}{\\tau }[-1 + w F'(w\\cdot r^* + I_{\\text{ext}};a,\\theta)] \n",
        "\\end{align}\n",
        "\n",
        "That is, as in the linear system above, the value of\n",
        "\n",
        "$$\\lambda = [-1+ wF'(w\\cdot r^* + I_{\\text{ext}};a,\\theta)]/\\tau \\qquad (4)$$\n",
        "\n",
        "determines whether the perturbation will grow or decay to zero, i.e., $\\lambda$ defines the stability of the fixed point. This value is called the **eigenvalue** of the dynamical system."
      ]
    },
    {
      "cell_type": "markdown",
      "metadata": {
        "execution": {},
        "id": "Pwfsfqe-NglR"
      },
      "source": [
        "The derivative of the sigmoid transfer function is:\n",
        "\\begin{align} \n",
        "\\frac{dF}{dx} & = \\frac{d}{dx} (1+\\exp\\{-a(x-\\theta)\\})^{-1}  \\\\\n",
        "& = a\\exp\\{-a(x-\\theta)\\} (1+\\exp\\{-a(x-\\theta)\\})^{-2}. \\qquad (5)\n",
        "\\end{align}\n",
        "\n",
        "We provide a helper function `dF` which computes this derivative."
      ]
    },
    {
      "cell_type": "code",
      "metadata": {
        "cellView": "form",
        "execution": {},
        "id": "Dqa7xqdBNglS"
      },
      "source": [
        "# @markdown Execute this cell to enable helper function `dF` and visualize derivative\n",
        "\n",
        "def dF(x, a, theta):\n",
        "  \"\"\"\n",
        "  Population activation function.\n",
        "\n",
        "  Args:\n",
        "    x     : the population input\n",
        "    a     : the gain of the function\n",
        "    theta : the threshold of the function\n",
        "\n",
        "  Returns:\n",
        "    dFdx  : the population activation response F(x) for input x\n",
        "  \"\"\"\n",
        "\n",
        "  # Calculate the population activation\n",
        "  dFdx = a * np.exp(-a * (x - theta)) * (1 + np.exp(-a * (x - theta)))**-2\n",
        "\n",
        "  return dFdx\n",
        "\n",
        "# Set parameters\n",
        "pars = default_pars_single()  # get default parameters\n",
        "x = np.arange(0, 10, .1)      # set the range of input\n",
        "\n",
        "# Compute derivative of transfer function\n",
        "df = dF(x, pars['a'], pars['theta'])\n",
        "\n",
        "# Visualize\n",
        "plot_dFdt(x, df)"
      ],
      "execution_count": null,
      "outputs": []
    },
    {
      "cell_type": "markdown",
      "metadata": {
        "execution": {},
        "id": "u1mQIrPiNglS"
      },
      "source": [
        "### Bonus Coding Exercise 1: Compute eigenvalues\n",
        "\n",
        "As discussed above, for the case with $w=5.0$ and $I_{\\text{ext}}=0.5$, the system displays **three** fixed points. However, when we simulated the dynamics and varied the initial conditions $r_{\\rm init}$, we could only obtain **two** steady states. In this exercise, we will now check the stability of each of the three fixed points by calculating the corresponding eigenvalues with the function `eig_single`. Check the sign of each eigenvalue (i.e., stability of each fixed point). How many of the fixed points are stable?\n",
        "\n",
        "Note that the expression of the eigenvalue at fixed point $r^*$\n",
        "$$\\lambda = [-1+ wF'(w\\cdot r^* + I_{\\text{ext}};a,\\theta)]/\\tau$$"
      ]
    },
    {
      "cell_type": "code",
      "metadata": {
        "execution": {},
        "id": "Nwi3VaQFNglS"
      },
      "source": [
        "def eig_single(fp, tau, a, theta, w, I_ext, **other_pars):\n",
        "  \"\"\"\n",
        "  Args:\n",
        "    fp   : fixed point r_fp\n",
        "    tau, a, theta, w, I_ext : Simulation parameters\n",
        "\n",
        "  Returns:\n",
        "    eig : eigevalue of the linearized system\n",
        "  \"\"\"\n",
        "  #####################################################################\n",
        "  ## TODO for students: compute eigenvalue and disable the error\n",
        "  raise NotImplementedError(\"Student excercise: compute the eigenvalue\")\n",
        "  ######################################################################\n",
        "  # Compute the eigenvalue\n",
        "  eig = ...\n",
        "\n",
        "  return eig\n",
        "\n",
        "\n",
        "# Find the eigenvalues for all fixed points\n",
        "pars = default_pars_single(w=5, I_ext=.5)\n",
        "r_guess_vector = [0, .4, .9]\n",
        "x_fp = my_fp_finder(pars, r_guess_vector)\n",
        "\n",
        "\n",
        "for fp in x_fp:\n",
        "  eig_fp = eig_single(fp, **pars)\n",
        "  print(f'Fixed point1 at {fp:.3f} with Eigenvalue={eig_fp:.3f}')"
      ],
      "execution_count": null,
      "outputs": []
    },
    {
      "cell_type": "code",
      "metadata": {
        "execution": {},
        "id": "_1RVhPwhNglS"
      },
      "source": [
        "# to_remove solution\n",
        "def eig_single(fp, tau, a, theta, w, I_ext, **other_pars):\n",
        "  \"\"\"\n",
        "  Args:\n",
        "    fp   : fixed point r_fp\n",
        "    tau, a, theta, w, I_ext : Simulation parameters\n",
        "\n",
        "  Returns:\n",
        "    eig : eigevalue of the linearized system\n",
        "  \"\"\"\n",
        "  # Compute the eigenvalue\n",
        "  eig = (-1. + w * dF(w * fp + I_ext, a, theta)) / tau\n",
        "\n",
        "  return eig\n",
        "\n",
        "\n",
        "# Find the eigenvalues for all fixed points\n",
        "pars = default_pars_single(w=5, I_ext=.5)\n",
        "r_guess_vector = [0, .4, .9]\n",
        "x_fp = my_fp_finder(pars, r_guess_vector)\n",
        "\n",
        "for fp in x_fp:\n",
        "  eig_fp = eig_single(fp, **pars)\n",
        "  print(f'Fixed point1 at {fp:.3f} with Eigenvalue={eig_fp:.3f}')"
      ],
      "execution_count": null,
      "outputs": []
    },
    {
      "cell_type": "markdown",
      "metadata": {
        "execution": {},
        "id": "gxGd-JJ6NglS"
      },
      "source": [
        "**SAMPLE OUTPUT**\n",
        "\n",
        "```\n",
        "Fixed point1 at 0.042 with Eigenvalue=-0.583\n",
        "Fixed point2 at 0.447 with Eigenvalue=0.498\n",
        "Fixed point3 at 0.900 with Eigenvalue=-0.626\n",
        "```"
      ]
    },
    {
      "cell_type": "markdown",
      "metadata": {
        "execution": {},
        "id": "eVFfFjp9NglT"
      },
      "source": [
        "We can see that the first and third fixed points are stable (negative eigenvalues) and the second is unstable (positive eigenvalue) - as we expected!"
      ]
    },
    {
      "cell_type": "markdown",
      "metadata": {
        "execution": {},
        "id": "6kKezdhNNglT"
      },
      "source": [
        "---\n",
        "## Bonus Section 2: Noisy input drives the transition between two stable states"
      ]
    },
    {
      "cell_type": "markdown",
      "metadata": {
        "execution": {},
        "id": "OHpLtVGONglT"
      },
      "source": [
        "As discussed in several previous tutorials, the Ornstein-Uhlenbeck (OU) process is usually used to generate a noisy input into the neuron. The OU input $\\eta(t)$ follows: \n",
        "\n",
        "$$\\tau_\\eta \\frac{d}{dt}\\eta(t) = -\\eta (t) + \\sigma_\\eta\\sqrt{2\\tau_\\eta}\\xi(t)$$\n",
        "\n",
        "Execute the following function `my_OU(pars, sig, myseed=False)` to generate an OU process."
      ]
    },
    {
      "cell_type": "code",
      "metadata": {
        "cellView": "form",
        "execution": {},
        "id": "csfRdRN3NglT"
      },
      "source": [
        "# @markdown Execute to get helper function `my_OU` and visualize OU process\n",
        "\n",
        "\n",
        "def my_OU(pars, sig, myseed=False):\n",
        "  \"\"\"\n",
        "  A functions that generates Ornstein-Uhlenback process\n",
        "\n",
        "  Args:\n",
        "    pars       : parameter dictionary\n",
        "    sig        : noise amplitute\n",
        "    myseed     : random seed. int or boolean\n",
        "\n",
        "  Returns:\n",
        "    I          : Ornstein-Uhlenbeck input current\n",
        "  \"\"\"\n",
        "\n",
        "  # Retrieve simulation parameters\n",
        "  dt, range_t = pars['dt'], pars['range_t']\n",
        "  Lt = range_t.size\n",
        "  tau_ou = pars['tau_ou']  # [ms]\n",
        "\n",
        "  # set random seed\n",
        "  if myseed:\n",
        "      np.random.seed(seed=myseed)\n",
        "  else:\n",
        "      np.random.seed()\n",
        "\n",
        "  # Initialize\n",
        "  noise = np.random.randn(Lt)\n",
        "  I_ou = np.zeros(Lt)\n",
        "  I_ou[0] = noise[0] * sig\n",
        "\n",
        "  # generate OU\n",
        "  for it in range(Lt - 1):\n",
        "    I_ou[it + 1] = (I_ou[it]\n",
        "                    + dt / tau_ou * (0. - I_ou[it])\n",
        "                    + np.sqrt(2 * dt / tau_ou) * sig * noise[it + 1])\n",
        "\n",
        "  return I_ou\n",
        "\n",
        "\n",
        "pars = default_pars_single(T=100)\n",
        "pars['tau_ou'] = 1.  # [ms]\n",
        "sig_ou = 0.1\n",
        "I_ou = my_OU(pars, sig=sig_ou, myseed=2020)\n",
        "plt.figure(figsize=(10, 4))\n",
        "plt.plot(pars['range_t'], I_ou, 'r')\n",
        "plt.xlabel('t (ms)')\n",
        "plt.ylabel(r'$I_{\\mathrm{OU}}$')\n",
        "plt.show()"
      ],
      "execution_count": null,
      "outputs": []
    },
    {
      "cell_type": "markdown",
      "metadata": {
        "execution": {},
        "id": "AIOUP6YeNglT"
      },
      "source": [
        "In the presence of two or more fixed points, noisy inputs can drive a transition between the fixed points! Here, we stimulate an E population for 1,000 ms applying OU inputs."
      ]
    },
    {
      "cell_type": "code",
      "metadata": {
        "cellView": "form",
        "execution": {},
        "id": "ovRXbi-YNglT"
      },
      "source": [
        "# @markdown Execute this cell to simulate E population with OU inputs\n",
        "\n",
        "pars = default_pars_single(T=1000)\n",
        "pars['w'] = 5.0\n",
        "sig_ou = 0.7\n",
        "pars['tau_ou'] = 1.  # [ms]\n",
        "pars['I_ext'] = 0.56 + my_OU(pars, sig=sig_ou, myseed=2020)\n",
        "\n",
        "r = simulate_single(pars)\n",
        "\n",
        "plt.figure(figsize=(10, 4))\n",
        "plt.plot(pars['range_t'], r, 'b', alpha=0.8)\n",
        "plt.xlabel('t (ms)')\n",
        "plt.ylabel(r'$r(t)$')\n",
        "plt.show()"
      ],
      "execution_count": null,
      "outputs": []
    },
    {
      "cell_type": "markdown",
      "metadata": {
        "execution": {},
        "id": "kLO4MJkbNglU"
      },
      "source": [
        "You can see that the population activity is changing between fixed points (it goes up and down)!"
      ]
    }
  ]
}